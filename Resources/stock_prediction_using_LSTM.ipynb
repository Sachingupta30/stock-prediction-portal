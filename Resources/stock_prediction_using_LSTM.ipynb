{
 "cells": [
  {
   "cell_type": "code",
   "execution_count": 47,
   "id": "92449fa4-db98-4f45-8239-afa88493b08d",
   "metadata": {},
   "outputs": [],
   "source": [
    "import numpy as np\n",
    "import pandas as pd\n",
    "import matplotlib.pyplot as plt\n",
    "import yfinance as yf\n",
    "from datetime import datetime"
   ]
  },
  {
   "cell_type": "markdown",
   "id": "58991f81-7af0-4004-882e-557a9199a182",
   "metadata": {},
   "source": [
    "# 1. Data Collection"
   ]
  },
  {
   "cell_type": "code",
   "execution_count": 48,
   "id": "085818f6-e081-471e-a6ad-1f22ea4e77c8",
   "metadata": {},
   "outputs": [
    {
     "name": "stderr",
     "output_type": "stream",
     "text": [
      "[*********************100%***********************]  1 of 1 completed\n"
     ]
    },
    {
     "data": {
      "text/html": [
       "<div>\n",
       "<style scoped>\n",
       "    .dataframe tbody tr th:only-of-type {\n",
       "        vertical-align: middle;\n",
       "    }\n",
       "\n",
       "    .dataframe tbody tr th {\n",
       "        vertical-align: top;\n",
       "    }\n",
       "\n",
       "    .dataframe thead tr th {\n",
       "        text-align: left;\n",
       "    }\n",
       "\n",
       "    .dataframe thead tr:last-of-type th {\n",
       "        text-align: right;\n",
       "    }\n",
       "</style>\n",
       "<table border=\"1\" class=\"dataframe\">\n",
       "  <thead>\n",
       "    <tr>\n",
       "      <th>Price</th>\n",
       "      <th>Close</th>\n",
       "      <th>High</th>\n",
       "      <th>Low</th>\n",
       "      <th>Open</th>\n",
       "      <th>Volume</th>\n",
       "    </tr>\n",
       "    <tr>\n",
       "      <th>Ticker</th>\n",
       "      <th>AAPL</th>\n",
       "      <th>AAPL</th>\n",
       "      <th>AAPL</th>\n",
       "      <th>AAPL</th>\n",
       "      <th>AAPL</th>\n",
       "    </tr>\n",
       "    <tr>\n",
       "      <th>Date</th>\n",
       "      <th></th>\n",
       "      <th></th>\n",
       "      <th></th>\n",
       "      <th></th>\n",
       "      <th></th>\n",
       "    </tr>\n",
       "  </thead>\n",
       "  <tbody>\n",
       "    <tr>\n",
       "      <th>2015-04-20</th>\n",
       "      <td>28.496607</td>\n",
       "      <td>28.612736</td>\n",
       "      <td>27.953921</td>\n",
       "      <td>28.043252</td>\n",
       "      <td>188217200</td>\n",
       "    </tr>\n",
       "    <tr>\n",
       "      <th>2015-04-21</th>\n",
       "      <td>28.342524</td>\n",
       "      <td>28.630615</td>\n",
       "      <td>28.288924</td>\n",
       "      <td>28.608284</td>\n",
       "      <td>129740400</td>\n",
       "    </tr>\n",
       "    <tr>\n",
       "      <th>2015-04-22</th>\n",
       "      <td>28.724401</td>\n",
       "      <td>28.780233</td>\n",
       "      <td>28.210749</td>\n",
       "      <td>28.360378</td>\n",
       "      <td>150618000</td>\n",
       "    </tr>\n",
       "    <tr>\n",
       "      <th>2015-04-23</th>\n",
       "      <td>28.958893</td>\n",
       "      <td>29.126389</td>\n",
       "      <td>28.617202</td>\n",
       "      <td>28.652935</td>\n",
       "      <td>183083600</td>\n",
       "    </tr>\n",
       "    <tr>\n",
       "      <th>2015-04-24</th>\n",
       "      <td>29.095135</td>\n",
       "      <td>29.173301</td>\n",
       "      <td>28.860640</td>\n",
       "      <td>29.142035</td>\n",
       "      <td>178103600</td>\n",
       "    </tr>\n",
       "    <tr>\n",
       "      <th>...</th>\n",
       "      <td>...</td>\n",
       "      <td>...</td>\n",
       "      <td>...</td>\n",
       "      <td>...</td>\n",
       "      <td>...</td>\n",
       "    </tr>\n",
       "    <tr>\n",
       "      <th>2025-04-11</th>\n",
       "      <td>198.149994</td>\n",
       "      <td>199.539993</td>\n",
       "      <td>186.059998</td>\n",
       "      <td>186.100006</td>\n",
       "      <td>87435900</td>\n",
       "    </tr>\n",
       "    <tr>\n",
       "      <th>2025-04-14</th>\n",
       "      <td>202.520004</td>\n",
       "      <td>212.940002</td>\n",
       "      <td>201.160004</td>\n",
       "      <td>211.440002</td>\n",
       "      <td>101352900</td>\n",
       "    </tr>\n",
       "    <tr>\n",
       "      <th>2025-04-15</th>\n",
       "      <td>202.139999</td>\n",
       "      <td>203.509995</td>\n",
       "      <td>199.800003</td>\n",
       "      <td>201.860001</td>\n",
       "      <td>51343900</td>\n",
       "    </tr>\n",
       "    <tr>\n",
       "      <th>2025-04-16</th>\n",
       "      <td>194.270004</td>\n",
       "      <td>200.699997</td>\n",
       "      <td>192.369995</td>\n",
       "      <td>198.360001</td>\n",
       "      <td>59732400</td>\n",
       "    </tr>\n",
       "    <tr>\n",
       "      <th>2025-04-17</th>\n",
       "      <td>196.979996</td>\n",
       "      <td>198.830002</td>\n",
       "      <td>194.419998</td>\n",
       "      <td>197.199997</td>\n",
       "      <td>51334300</td>\n",
       "    </tr>\n",
       "  </tbody>\n",
       "</table>\n",
       "<p>2516 rows × 5 columns</p>\n",
       "</div>"
      ],
      "text/plain": [
       "Price            Close        High         Low        Open     Volume\n",
       "Ticker            AAPL        AAPL        AAPL        AAPL       AAPL\n",
       "Date                                                                 \n",
       "2015-04-20   28.496607   28.612736   27.953921   28.043252  188217200\n",
       "2015-04-21   28.342524   28.630615   28.288924   28.608284  129740400\n",
       "2015-04-22   28.724401   28.780233   28.210749   28.360378  150618000\n",
       "2015-04-23   28.958893   29.126389   28.617202   28.652935  183083600\n",
       "2015-04-24   29.095135   29.173301   28.860640   29.142035  178103600\n",
       "...                ...         ...         ...         ...        ...\n",
       "2025-04-11  198.149994  199.539993  186.059998  186.100006   87435900\n",
       "2025-04-14  202.520004  212.940002  201.160004  211.440002  101352900\n",
       "2025-04-15  202.139999  203.509995  199.800003  201.860001   51343900\n",
       "2025-04-16  194.270004  200.699997  192.369995  198.360001   59732400\n",
       "2025-04-17  196.979996  198.830002  194.419998  197.199997   51334300\n",
       "\n",
       "[2516 rows x 5 columns]"
      ]
     },
     "execution_count": 48,
     "metadata": {},
     "output_type": "execute_result"
    }
   ],
   "source": [
    "now = datetime.now()\n",
    "\n",
    "start = datetime(now.year-10,now.month,now.day) #last 10 year date\n",
    "end = now\n",
    "ticker = 'AAPL' #this the stock symbol of apple stock\n",
    "df = yf.download(ticker, start, end)\n",
    "df"
   ]
  },
  {
   "cell_type": "code",
   "execution_count": 49,
   "id": "70098ffe-0dad-4fc8-be68-77f42695904f",
   "metadata": {},
   "outputs": [
    {
     "data": {
      "text/html": [
       "<div>\n",
       "<style scoped>\n",
       "    .dataframe tbody tr th:only-of-type {\n",
       "        vertical-align: middle;\n",
       "    }\n",
       "\n",
       "    .dataframe tbody tr th {\n",
       "        vertical-align: top;\n",
       "    }\n",
       "\n",
       "    .dataframe thead tr th {\n",
       "        text-align: left;\n",
       "    }\n",
       "\n",
       "    .dataframe thead tr:last-of-type th {\n",
       "        text-align: right;\n",
       "    }\n",
       "</style>\n",
       "<table border=\"1\" class=\"dataframe\">\n",
       "  <thead>\n",
       "    <tr>\n",
       "      <th>Price</th>\n",
       "      <th>Close</th>\n",
       "      <th>High</th>\n",
       "      <th>Low</th>\n",
       "      <th>Open</th>\n",
       "      <th>Volume</th>\n",
       "    </tr>\n",
       "    <tr>\n",
       "      <th>Ticker</th>\n",
       "      <th>AAPL</th>\n",
       "      <th>AAPL</th>\n",
       "      <th>AAPL</th>\n",
       "      <th>AAPL</th>\n",
       "      <th>AAPL</th>\n",
       "    </tr>\n",
       "    <tr>\n",
       "      <th>Date</th>\n",
       "      <th></th>\n",
       "      <th></th>\n",
       "      <th></th>\n",
       "      <th></th>\n",
       "      <th></th>\n",
       "    </tr>\n",
       "  </thead>\n",
       "  <tbody>\n",
       "    <tr>\n",
       "      <th>2025-04-11</th>\n",
       "      <td>198.149994</td>\n",
       "      <td>199.539993</td>\n",
       "      <td>186.059998</td>\n",
       "      <td>186.100006</td>\n",
       "      <td>87435900</td>\n",
       "    </tr>\n",
       "    <tr>\n",
       "      <th>2025-04-14</th>\n",
       "      <td>202.520004</td>\n",
       "      <td>212.940002</td>\n",
       "      <td>201.160004</td>\n",
       "      <td>211.440002</td>\n",
       "      <td>101352900</td>\n",
       "    </tr>\n",
       "    <tr>\n",
       "      <th>2025-04-15</th>\n",
       "      <td>202.139999</td>\n",
       "      <td>203.509995</td>\n",
       "      <td>199.800003</td>\n",
       "      <td>201.860001</td>\n",
       "      <td>51343900</td>\n",
       "    </tr>\n",
       "    <tr>\n",
       "      <th>2025-04-16</th>\n",
       "      <td>194.270004</td>\n",
       "      <td>200.699997</td>\n",
       "      <td>192.369995</td>\n",
       "      <td>198.360001</td>\n",
       "      <td>59732400</td>\n",
       "    </tr>\n",
       "    <tr>\n",
       "      <th>2025-04-17</th>\n",
       "      <td>196.979996</td>\n",
       "      <td>198.830002</td>\n",
       "      <td>194.419998</td>\n",
       "      <td>197.199997</td>\n",
       "      <td>51334300</td>\n",
       "    </tr>\n",
       "  </tbody>\n",
       "</table>\n",
       "</div>"
      ],
      "text/plain": [
       "Price            Close        High         Low        Open     Volume\n",
       "Ticker            AAPL        AAPL        AAPL        AAPL       AAPL\n",
       "Date                                                                 \n",
       "2025-04-11  198.149994  199.539993  186.059998  186.100006   87435900\n",
       "2025-04-14  202.520004  212.940002  201.160004  211.440002  101352900\n",
       "2025-04-15  202.139999  203.509995  199.800003  201.860001   51343900\n",
       "2025-04-16  194.270004  200.699997  192.369995  198.360001   59732400\n",
       "2025-04-17  196.979996  198.830002  194.419998  197.199997   51334300"
      ]
     },
     "execution_count": 49,
     "metadata": {},
     "output_type": "execute_result"
    }
   ],
   "source": [
    "df.tail()"
   ]
  },
  {
   "cell_type": "markdown",
   "id": "33d05206-98eb-4595-9802-54c8df0d2e21",
   "metadata": {},
   "source": [
    "# 2. Data Exploration and Visualisation "
   ]
  },
  {
   "cell_type": "code",
   "execution_count": 50,
   "id": "2705fdc1-67e8-446b-9672-fdf7b30c3b05",
   "metadata": {},
   "outputs": [
    {
     "data": {
      "text/html": [
       "<div>\n",
       "<style scoped>\n",
       "    .dataframe tbody tr th:only-of-type {\n",
       "        vertical-align: middle;\n",
       "    }\n",
       "\n",
       "    .dataframe tbody tr th {\n",
       "        vertical-align: top;\n",
       "    }\n",
       "\n",
       "    .dataframe thead tr th {\n",
       "        text-align: left;\n",
       "    }\n",
       "\n",
       "    .dataframe thead tr:last-of-type th {\n",
       "        text-align: right;\n",
       "    }\n",
       "</style>\n",
       "<table border=\"1\" class=\"dataframe\">\n",
       "  <thead>\n",
       "    <tr>\n",
       "      <th>Price</th>\n",
       "      <th>Close</th>\n",
       "      <th>High</th>\n",
       "      <th>Low</th>\n",
       "      <th>Open</th>\n",
       "      <th>Volume</th>\n",
       "    </tr>\n",
       "    <tr>\n",
       "      <th>Ticker</th>\n",
       "      <th>AAPL</th>\n",
       "      <th>AAPL</th>\n",
       "      <th>AAPL</th>\n",
       "      <th>AAPL</th>\n",
       "      <th>AAPL</th>\n",
       "    </tr>\n",
       "    <tr>\n",
       "      <th>Date</th>\n",
       "      <th></th>\n",
       "      <th></th>\n",
       "      <th></th>\n",
       "      <th></th>\n",
       "      <th></th>\n",
       "    </tr>\n",
       "  </thead>\n",
       "  <tbody>\n",
       "    <tr>\n",
       "      <th>2015-04-20</th>\n",
       "      <td>28.496607</td>\n",
       "      <td>28.612736</td>\n",
       "      <td>27.953921</td>\n",
       "      <td>28.043252</td>\n",
       "      <td>188217200</td>\n",
       "    </tr>\n",
       "    <tr>\n",
       "      <th>2015-04-21</th>\n",
       "      <td>28.342524</td>\n",
       "      <td>28.630615</td>\n",
       "      <td>28.288924</td>\n",
       "      <td>28.608284</td>\n",
       "      <td>129740400</td>\n",
       "    </tr>\n",
       "    <tr>\n",
       "      <th>2015-04-22</th>\n",
       "      <td>28.724401</td>\n",
       "      <td>28.780233</td>\n",
       "      <td>28.210749</td>\n",
       "      <td>28.360378</td>\n",
       "      <td>150618000</td>\n",
       "    </tr>\n",
       "    <tr>\n",
       "      <th>2015-04-23</th>\n",
       "      <td>28.958893</td>\n",
       "      <td>29.126389</td>\n",
       "      <td>28.617202</td>\n",
       "      <td>28.652935</td>\n",
       "      <td>183083600</td>\n",
       "    </tr>\n",
       "    <tr>\n",
       "      <th>2015-04-24</th>\n",
       "      <td>29.095135</td>\n",
       "      <td>29.173301</td>\n",
       "      <td>28.860640</td>\n",
       "      <td>29.142035</td>\n",
       "      <td>178103600</td>\n",
       "    </tr>\n",
       "    <tr>\n",
       "      <th>...</th>\n",
       "      <td>...</td>\n",
       "      <td>...</td>\n",
       "      <td>...</td>\n",
       "      <td>...</td>\n",
       "      <td>...</td>\n",
       "    </tr>\n",
       "    <tr>\n",
       "      <th>2025-04-11</th>\n",
       "      <td>198.149994</td>\n",
       "      <td>199.539993</td>\n",
       "      <td>186.059998</td>\n",
       "      <td>186.100006</td>\n",
       "      <td>87435900</td>\n",
       "    </tr>\n",
       "    <tr>\n",
       "      <th>2025-04-14</th>\n",
       "      <td>202.520004</td>\n",
       "      <td>212.940002</td>\n",
       "      <td>201.160004</td>\n",
       "      <td>211.440002</td>\n",
       "      <td>101352900</td>\n",
       "    </tr>\n",
       "    <tr>\n",
       "      <th>2025-04-15</th>\n",
       "      <td>202.139999</td>\n",
       "      <td>203.509995</td>\n",
       "      <td>199.800003</td>\n",
       "      <td>201.860001</td>\n",
       "      <td>51343900</td>\n",
       "    </tr>\n",
       "    <tr>\n",
       "      <th>2025-04-16</th>\n",
       "      <td>194.270004</td>\n",
       "      <td>200.699997</td>\n",
       "      <td>192.369995</td>\n",
       "      <td>198.360001</td>\n",
       "      <td>59732400</td>\n",
       "    </tr>\n",
       "    <tr>\n",
       "      <th>2025-04-17</th>\n",
       "      <td>196.979996</td>\n",
       "      <td>198.830002</td>\n",
       "      <td>194.419998</td>\n",
       "      <td>197.199997</td>\n",
       "      <td>51334300</td>\n",
       "    </tr>\n",
       "  </tbody>\n",
       "</table>\n",
       "<p>2516 rows × 5 columns</p>\n",
       "</div>"
      ],
      "text/plain": [
       "Price            Close        High         Low        Open     Volume\n",
       "Ticker            AAPL        AAPL        AAPL        AAPL       AAPL\n",
       "Date                                                                 \n",
       "2015-04-20   28.496607   28.612736   27.953921   28.043252  188217200\n",
       "2015-04-21   28.342524   28.630615   28.288924   28.608284  129740400\n",
       "2015-04-22   28.724401   28.780233   28.210749   28.360378  150618000\n",
       "2015-04-23   28.958893   29.126389   28.617202   28.652935  183083600\n",
       "2015-04-24   29.095135   29.173301   28.860640   29.142035  178103600\n",
       "...                ...         ...         ...         ...        ...\n",
       "2025-04-11  198.149994  199.539993  186.059998  186.100006   87435900\n",
       "2025-04-14  202.520004  212.940002  201.160004  211.440002  101352900\n",
       "2025-04-15  202.139999  203.509995  199.800003  201.860001   51343900\n",
       "2025-04-16  194.270004  200.699997  192.369995  198.360001   59732400\n",
       "2025-04-17  196.979996  198.830002  194.419998  197.199997   51334300\n",
       "\n",
       "[2516 rows x 5 columns]"
      ]
     },
     "execution_count": 50,
     "metadata": {},
     "output_type": "execute_result"
    }
   ],
   "source": [
    "df"
   ]
  },
  {
   "cell_type": "code",
   "execution_count": 51,
   "id": "19797318-7165-4d72-88a9-35b79940d55f",
   "metadata": {},
   "outputs": [
    {
     "data": {
      "text/plain": [
       "pandas.core.frame.DataFrame"
      ]
     },
     "execution_count": 51,
     "metadata": {},
     "output_type": "execute_result"
    }
   ],
   "source": [
    "type(df)"
   ]
  },
  {
   "cell_type": "code",
   "execution_count": 52,
   "id": "44379733-4fb4-4748-a662-9ff5d1c9adcc",
   "metadata": {},
   "outputs": [
    {
     "data": {
      "text/plain": [
       "(2516, 5)"
      ]
     },
     "execution_count": 52,
     "metadata": {},
     "output_type": "execute_result"
    }
   ],
   "source": [
    "df.shape"
   ]
  },
  {
   "cell_type": "code",
   "execution_count": 53,
   "id": "cc0cc90a-0f6b-4545-bc5a-ceb8ce16f7dd",
   "metadata": {},
   "outputs": [
    {
     "data": {
      "text/plain": [
       "Price   Ticker\n",
       "Close   AAPL      0\n",
       "High    AAPL      0\n",
       "Low     AAPL      0\n",
       "Open    AAPL      0\n",
       "Volume  AAPL      0\n",
       "dtype: int64"
      ]
     },
     "execution_count": 53,
     "metadata": {},
     "output_type": "execute_result"
    }
   ],
   "source": [
    "#check nan value in data (df)\n",
    "df.isna().sum()"
   ]
  },
  {
   "cell_type": "code",
   "execution_count": 54,
   "id": "52705328-d2dd-46c3-9b32-3fdc652cd4cf",
   "metadata": {},
   "outputs": [
    {
     "data": {
      "text/html": [
       "<div>\n",
       "<style scoped>\n",
       "    .dataframe tbody tr th:only-of-type {\n",
       "        vertical-align: middle;\n",
       "    }\n",
       "\n",
       "    .dataframe tbody tr th {\n",
       "        vertical-align: top;\n",
       "    }\n",
       "\n",
       "    .dataframe thead tr th {\n",
       "        text-align: left;\n",
       "    }\n",
       "</style>\n",
       "<table border=\"1\" class=\"dataframe\">\n",
       "  <thead>\n",
       "    <tr>\n",
       "      <th>Price</th>\n",
       "      <th>Close</th>\n",
       "      <th>High</th>\n",
       "      <th>Low</th>\n",
       "      <th>Open</th>\n",
       "      <th>Volume</th>\n",
       "    </tr>\n",
       "    <tr>\n",
       "      <th>Ticker</th>\n",
       "      <th>AAPL</th>\n",
       "      <th>AAPL</th>\n",
       "      <th>AAPL</th>\n",
       "      <th>AAPL</th>\n",
       "      <th>AAPL</th>\n",
       "    </tr>\n",
       "  </thead>\n",
       "  <tbody>\n",
       "    <tr>\n",
       "      <th>count</th>\n",
       "      <td>2516.000000</td>\n",
       "      <td>2516.000000</td>\n",
       "      <td>2516.000000</td>\n",
       "      <td>2516.000000</td>\n",
       "      <td>2.516000e+03</td>\n",
       "    </tr>\n",
       "    <tr>\n",
       "      <th>mean</th>\n",
       "      <td>99.938515</td>\n",
       "      <td>100.941927</td>\n",
       "      <td>98.828722</td>\n",
       "      <td>99.842317</td>\n",
       "      <td>1.124729e+08</td>\n",
       "    </tr>\n",
       "    <tr>\n",
       "      <th>std</th>\n",
       "      <td>68.248241</td>\n",
       "      <td>68.920878</td>\n",
       "      <td>67.486927</td>\n",
       "      <td>68.168852</td>\n",
       "      <td>6.554268e+07</td>\n",
       "    </tr>\n",
       "    <tr>\n",
       "      <th>min</th>\n",
       "      <td>20.674536</td>\n",
       "      <td>20.978906</td>\n",
       "      <td>20.475435</td>\n",
       "      <td>20.596722</td>\n",
       "      <td>2.323470e+07</td>\n",
       "    </tr>\n",
       "    <tr>\n",
       "      <th>25%</th>\n",
       "      <td>37.056063</td>\n",
       "      <td>37.464148</td>\n",
       "      <td>36.656912</td>\n",
       "      <td>37.100718</td>\n",
       "      <td>6.884192e+07</td>\n",
       "    </tr>\n",
       "    <tr>\n",
       "      <th>50%</th>\n",
       "      <td>76.481052</td>\n",
       "      <td>77.159007</td>\n",
       "      <td>75.568064</td>\n",
       "      <td>76.291418</td>\n",
       "      <td>9.650920e+07</td>\n",
       "    </tr>\n",
       "    <tr>\n",
       "      <th>75%</th>\n",
       "      <td>158.697678</td>\n",
       "      <td>160.744514</td>\n",
       "      <td>156.422887</td>\n",
       "      <td>158.388856</td>\n",
       "      <td>1.371295e+08</td>\n",
       "    </tr>\n",
       "    <tr>\n",
       "      <th>max</th>\n",
       "      <td>258.735504</td>\n",
       "      <td>259.814335</td>\n",
       "      <td>257.347047</td>\n",
       "      <td>257.906429</td>\n",
       "      <td>6.488252e+08</td>\n",
       "    </tr>\n",
       "  </tbody>\n",
       "</table>\n",
       "</div>"
      ],
      "text/plain": [
       "Price         Close         High          Low         Open        Volume\n",
       "Ticker         AAPL         AAPL         AAPL         AAPL          AAPL\n",
       "count   2516.000000  2516.000000  2516.000000  2516.000000  2.516000e+03\n",
       "mean      99.938515   100.941927    98.828722    99.842317  1.124729e+08\n",
       "std       68.248241    68.920878    67.486927    68.168852  6.554268e+07\n",
       "min       20.674536    20.978906    20.475435    20.596722  2.323470e+07\n",
       "25%       37.056063    37.464148    36.656912    37.100718  6.884192e+07\n",
       "50%       76.481052    77.159007    75.568064    76.291418  9.650920e+07\n",
       "75%      158.697678   160.744514   156.422887   158.388856  1.371295e+08\n",
       "max      258.735504   259.814335   257.347047   257.906429  6.488252e+08"
      ]
     },
     "execution_count": 54,
     "metadata": {},
     "output_type": "execute_result"
    }
   ],
   "source": [
    "df.describe()"
   ]
  },
  {
   "cell_type": "code",
   "execution_count": 55,
   "id": "764e5e9b-ecb8-4721-a31c-d11d0a380420",
   "metadata": {},
   "outputs": [
    {
     "data": {
      "text/plain": [
       "Price   Ticker\n",
       "Close   AAPL      float64\n",
       "High    AAPL      float64\n",
       "Low     AAPL      float64\n",
       "Open    AAPL      float64\n",
       "Volume  AAPL        int64\n",
       "dtype: object"
      ]
     },
     "execution_count": 55,
     "metadata": {},
     "output_type": "execute_result"
    }
   ],
   "source": [
    "df.dtypes"
   ]
  },
  {
   "cell_type": "code",
   "execution_count": 56,
   "id": "83c540b2-8d13-49ec-97ef-b9ac9482bcf3",
   "metadata": {},
   "outputs": [],
   "source": [
    "df = df.reset_index()"
   ]
  },
  {
   "cell_type": "code",
   "execution_count": 57,
   "id": "bf08d1ce-2cb1-435c-aa29-0b52c5b80520",
   "metadata": {},
   "outputs": [
    {
     "data": {
      "text/html": [
       "<div>\n",
       "<style scoped>\n",
       "    .dataframe tbody tr th:only-of-type {\n",
       "        vertical-align: middle;\n",
       "    }\n",
       "\n",
       "    .dataframe tbody tr th {\n",
       "        vertical-align: top;\n",
       "    }\n",
       "\n",
       "    .dataframe thead tr th {\n",
       "        text-align: left;\n",
       "    }\n",
       "</style>\n",
       "<table border=\"1\" class=\"dataframe\">\n",
       "  <thead>\n",
       "    <tr>\n",
       "      <th>Price</th>\n",
       "      <th>Date</th>\n",
       "      <th>Close</th>\n",
       "      <th>High</th>\n",
       "      <th>Low</th>\n",
       "      <th>Open</th>\n",
       "      <th>Volume</th>\n",
       "    </tr>\n",
       "    <tr>\n",
       "      <th>Ticker</th>\n",
       "      <th></th>\n",
       "      <th>AAPL</th>\n",
       "      <th>AAPL</th>\n",
       "      <th>AAPL</th>\n",
       "      <th>AAPL</th>\n",
       "      <th>AAPL</th>\n",
       "    </tr>\n",
       "  </thead>\n",
       "  <tbody>\n",
       "    <tr>\n",
       "      <th>0</th>\n",
       "      <td>2015-04-20</td>\n",
       "      <td>28.496607</td>\n",
       "      <td>28.612736</td>\n",
       "      <td>27.953921</td>\n",
       "      <td>28.043252</td>\n",
       "      <td>188217200</td>\n",
       "    </tr>\n",
       "    <tr>\n",
       "      <th>1</th>\n",
       "      <td>2015-04-21</td>\n",
       "      <td>28.342524</td>\n",
       "      <td>28.630615</td>\n",
       "      <td>28.288924</td>\n",
       "      <td>28.608284</td>\n",
       "      <td>129740400</td>\n",
       "    </tr>\n",
       "    <tr>\n",
       "      <th>2</th>\n",
       "      <td>2015-04-22</td>\n",
       "      <td>28.724401</td>\n",
       "      <td>28.780233</td>\n",
       "      <td>28.210749</td>\n",
       "      <td>28.360378</td>\n",
       "      <td>150618000</td>\n",
       "    </tr>\n",
       "    <tr>\n",
       "      <th>3</th>\n",
       "      <td>2015-04-23</td>\n",
       "      <td>28.958893</td>\n",
       "      <td>29.126389</td>\n",
       "      <td>28.617202</td>\n",
       "      <td>28.652935</td>\n",
       "      <td>183083600</td>\n",
       "    </tr>\n",
       "    <tr>\n",
       "      <th>4</th>\n",
       "      <td>2015-04-24</td>\n",
       "      <td>29.095135</td>\n",
       "      <td>29.173301</td>\n",
       "      <td>28.860640</td>\n",
       "      <td>29.142035</td>\n",
       "      <td>178103600</td>\n",
       "    </tr>\n",
       "  </tbody>\n",
       "</table>\n",
       "</div>"
      ],
      "text/plain": [
       "Price        Date      Close       High        Low       Open     Volume\n",
       "Ticker                  AAPL       AAPL       AAPL       AAPL       AAPL\n",
       "0      2015-04-20  28.496607  28.612736  27.953921  28.043252  188217200\n",
       "1      2015-04-21  28.342524  28.630615  28.288924  28.608284  129740400\n",
       "2      2015-04-22  28.724401  28.780233  28.210749  28.360378  150618000\n",
       "3      2015-04-23  28.958893  29.126389  28.617202  28.652935  183083600\n",
       "4      2015-04-24  29.095135  29.173301  28.860640  29.142035  178103600"
      ]
     },
     "execution_count": 57,
     "metadata": {},
     "output_type": "execute_result"
    }
   ],
   "source": [
    "df.head()"
   ]
  },
  {
   "cell_type": "code",
   "execution_count": 58,
   "id": "b8926dff-9bae-4314-92d6-37861310f59c",
   "metadata": {},
   "outputs": [
    {
     "data": {
      "text/plain": [
       "Text(0, 0.5, 'Close Price')"
      ]
     },
     "execution_count": 58,
     "metadata": {},
     "output_type": "execute_result"
    },
    {
     "data": {
      "image/png": "[encoded data removed]",
      "text/plain": [
       "<Figure size 1200x500 with 1 Axes>"
      ]
     },
     "metadata": {},
     "output_type": "display_data"
    }
   ],
   "source": [
    "plt.figure(figsize=(12,5))\n",
    "plt.plot(df.Close)\n",
    "plt.title(ticker)\n",
    "plt.xlabel('Days')\n",
    "plt.ylabel('Close Price')"
   ]
  },
  {
   "cell_type": "code",
   "execution_count": null,
   "id": "8f6a91b6-0922-4b0b-bca6-1b979cc085d6",
   "metadata": {},
   "outputs": [],
   "source": []
  },
  {
   "cell_type": "markdown",
   "id": "ab863a1c-c114-4fdd-a9e5-8f4d05ef704a",
   "metadata": {},
   "source": [
    "# 3.Feature Engineering "
   ]
  },
  {
   "cell_type": "markdown",
   "id": "011c30ea-86cd-4508-ae3b-459259af083f",
   "metadata": {},
   "source": [
    "## 100 Days Moving Average "
   ]
  },
  {
   "cell_type": "code",
   "execution_count": 59,
   "id": "fc628006-40f8-4b24-8281-e19cd9cc58f5",
   "metadata": {},
   "outputs": [
    {
     "data": {
      "text/html": [
       "<div>\n",
       "<style scoped>\n",
       "    .dataframe tbody tr th:only-of-type {\n",
       "        vertical-align: middle;\n",
       "    }\n",
       "\n",
       "    .dataframe tbody tr th {\n",
       "        vertical-align: top;\n",
       "    }\n",
       "\n",
       "    .dataframe thead tr th {\n",
       "        text-align: left;\n",
       "    }\n",
       "</style>\n",
       "<table border=\"1\" class=\"dataframe\">\n",
       "  <thead>\n",
       "    <tr>\n",
       "      <th>Price</th>\n",
       "      <th>Date</th>\n",
       "      <th>Close</th>\n",
       "      <th>High</th>\n",
       "      <th>Low</th>\n",
       "      <th>Open</th>\n",
       "      <th>Volume</th>\n",
       "      <th>MA_100</th>\n",
       "    </tr>\n",
       "    <tr>\n",
       "      <th>Ticker</th>\n",
       "      <th></th>\n",
       "      <th>AAPL</th>\n",
       "      <th>AAPL</th>\n",
       "      <th>AAPL</th>\n",
       "      <th>AAPL</th>\n",
       "      <th>AAPL</th>\n",
       "      <th></th>\n",
       "    </tr>\n",
       "  </thead>\n",
       "  <tbody>\n",
       "    <tr>\n",
       "      <th>0</th>\n",
       "      <td>2015-04-20</td>\n",
       "      <td>28.496607</td>\n",
       "      <td>28.612736</td>\n",
       "      <td>27.953921</td>\n",
       "      <td>28.043252</td>\n",
       "      <td>188217200</td>\n",
       "      <td>NaN</td>\n",
       "    </tr>\n",
       "    <tr>\n",
       "      <th>1</th>\n",
       "      <td>2015-04-21</td>\n",
       "      <td>28.342524</td>\n",
       "      <td>28.630615</td>\n",
       "      <td>28.288924</td>\n",
       "      <td>28.608284</td>\n",
       "      <td>129740400</td>\n",
       "      <td>NaN</td>\n",
       "    </tr>\n",
       "    <tr>\n",
       "      <th>2</th>\n",
       "      <td>2015-04-22</td>\n",
       "      <td>28.724401</td>\n",
       "      <td>28.780233</td>\n",
       "      <td>28.210749</td>\n",
       "      <td>28.360378</td>\n",
       "      <td>150618000</td>\n",
       "      <td>NaN</td>\n",
       "    </tr>\n",
       "    <tr>\n",
       "      <th>3</th>\n",
       "      <td>2015-04-23</td>\n",
       "      <td>28.958893</td>\n",
       "      <td>29.126389</td>\n",
       "      <td>28.617202</td>\n",
       "      <td>28.652935</td>\n",
       "      <td>183083600</td>\n",
       "      <td>NaN</td>\n",
       "    </tr>\n",
       "    <tr>\n",
       "      <th>4</th>\n",
       "      <td>2015-04-24</td>\n",
       "      <td>29.095135</td>\n",
       "      <td>29.173301</td>\n",
       "      <td>28.860640</td>\n",
       "      <td>29.142035</td>\n",
       "      <td>178103600</td>\n",
       "      <td>NaN</td>\n",
       "    </tr>\n",
       "  </tbody>\n",
       "</table>\n",
       "</div>"
      ],
      "text/plain": [
       "Price        Date      Close       High        Low       Open     Volume  \\\n",
       "Ticker                  AAPL       AAPL       AAPL       AAPL       AAPL   \n",
       "0      2015-04-20  28.496607  28.612736  27.953921  28.043252  188217200   \n",
       "1      2015-04-21  28.342524  28.630615  28.288924  28.608284  129740400   \n",
       "2      2015-04-22  28.724401  28.780233  28.210749  28.360378  150618000   \n",
       "3      2015-04-23  28.958893  29.126389  28.617202  28.652935  183083600   \n",
       "4      2015-04-24  29.095135  29.173301  28.860640  29.142035  178103600   \n",
       "\n",
       "Price  MA_100  \n",
       "Ticker         \n",
       "0         NaN  \n",
       "1         NaN  \n",
       "2         NaN  \n",
       "3         NaN  \n",
       "4         NaN  "
      ]
     },
     "execution_count": 59,
     "metadata": {},
     "output_type": "execute_result"
    }
   ],
   "source": [
    "df['MA_100'] = df.Close.rolling(100).mean()\n",
    "df.head()"
   ]
  },
  {
   "cell_type": "code",
   "execution_count": 60,
   "id": "bdf20237-2301-4a31-80f3-771d6a4f33fa",
   "metadata": {},
   "outputs": [
    {
     "data": {
      "text/html": [
       "<div>\n",
       "<style scoped>\n",
       "    .dataframe tbody tr th:only-of-type {\n",
       "        vertical-align: middle;\n",
       "    }\n",
       "\n",
       "    .dataframe tbody tr th {\n",
       "        vertical-align: top;\n",
       "    }\n",
       "\n",
       "    .dataframe thead tr th {\n",
       "        text-align: left;\n",
       "    }\n",
       "</style>\n",
       "<table border=\"1\" class=\"dataframe\">\n",
       "  <thead>\n",
       "    <tr>\n",
       "      <th>Price</th>\n",
       "      <th>Date</th>\n",
       "      <th>Close</th>\n",
       "      <th>High</th>\n",
       "      <th>Low</th>\n",
       "      <th>Open</th>\n",
       "      <th>Volume</th>\n",
       "      <th>MA_100</th>\n",
       "    </tr>\n",
       "    <tr>\n",
       "      <th>Ticker</th>\n",
       "      <th></th>\n",
       "      <th>AAPL</th>\n",
       "      <th>AAPL</th>\n",
       "      <th>AAPL</th>\n",
       "      <th>AAPL</th>\n",
       "      <th>AAPL</th>\n",
       "      <th></th>\n",
       "    </tr>\n",
       "  </thead>\n",
       "  <tbody>\n",
       "    <tr>\n",
       "      <th>0</th>\n",
       "      <td>2015-04-20</td>\n",
       "      <td>28.496607</td>\n",
       "      <td>28.612736</td>\n",
       "      <td>27.953921</td>\n",
       "      <td>28.043252</td>\n",
       "      <td>188217200</td>\n",
       "      <td>NaN</td>\n",
       "    </tr>\n",
       "    <tr>\n",
       "      <th>1</th>\n",
       "      <td>2015-04-21</td>\n",
       "      <td>28.342524</td>\n",
       "      <td>28.630615</td>\n",
       "      <td>28.288924</td>\n",
       "      <td>28.608284</td>\n",
       "      <td>129740400</td>\n",
       "      <td>NaN</td>\n",
       "    </tr>\n",
       "    <tr>\n",
       "      <th>2</th>\n",
       "      <td>2015-04-22</td>\n",
       "      <td>28.724401</td>\n",
       "      <td>28.780233</td>\n",
       "      <td>28.210749</td>\n",
       "      <td>28.360378</td>\n",
       "      <td>150618000</td>\n",
       "      <td>NaN</td>\n",
       "    </tr>\n",
       "    <tr>\n",
       "      <th>3</th>\n",
       "      <td>2015-04-23</td>\n",
       "      <td>28.958893</td>\n",
       "      <td>29.126389</td>\n",
       "      <td>28.617202</td>\n",
       "      <td>28.652935</td>\n",
       "      <td>183083600</td>\n",
       "      <td>NaN</td>\n",
       "    </tr>\n",
       "    <tr>\n",
       "      <th>4</th>\n",
       "      <td>2015-04-24</td>\n",
       "      <td>29.095135</td>\n",
       "      <td>29.173301</td>\n",
       "      <td>28.860640</td>\n",
       "      <td>29.142035</td>\n",
       "      <td>178103600</td>\n",
       "      <td>NaN</td>\n",
       "    </tr>\n",
       "    <tr>\n",
       "      <th>...</th>\n",
       "      <td>...</td>\n",
       "      <td>...</td>\n",
       "      <td>...</td>\n",
       "      <td>...</td>\n",
       "      <td>...</td>\n",
       "      <td>...</td>\n",
       "      <td>...</td>\n",
       "    </tr>\n",
       "    <tr>\n",
       "      <th>98</th>\n",
       "      <td>2015-09-08</td>\n",
       "      <td>25.300711</td>\n",
       "      <td>25.357030</td>\n",
       "      <td>24.852413</td>\n",
       "      <td>25.174557</td>\n",
       "      <td>219374400</td>\n",
       "      <td>NaN</td>\n",
       "    </tr>\n",
       "    <tr>\n",
       "      <th>99</th>\n",
       "      <td>2015-09-09</td>\n",
       "      <td>24.814114</td>\n",
       "      <td>25.685929</td>\n",
       "      <td>24.728508</td>\n",
       "      <td>25.627359</td>\n",
       "      <td>340043200</td>\n",
       "      <td>27.703236</td>\n",
       "    </tr>\n",
       "    <tr>\n",
       "      <th>100</th>\n",
       "      <td>2015-09-10</td>\n",
       "      <td>25.359280</td>\n",
       "      <td>25.519225</td>\n",
       "      <td>24.757794</td>\n",
       "      <td>24.841145</td>\n",
       "      <td>251571200</td>\n",
       "      <td>27.671863</td>\n",
       "    </tr>\n",
       "    <tr>\n",
       "      <th>101</th>\n",
       "      <td>2015-09-11</td>\n",
       "      <td>25.728731</td>\n",
       "      <td>25.728731</td>\n",
       "      <td>25.176807</td>\n",
       "      <td>25.183565</td>\n",
       "      <td>199662000</td>\n",
       "      <td>27.645725</td>\n",
       "    </tr>\n",
       "    <tr>\n",
       "      <th>102</th>\n",
       "      <td>2015-09-14</td>\n",
       "      <td>25.976540</td>\n",
       "      <td>26.332476</td>\n",
       "      <td>25.875166</td>\n",
       "      <td>26.262641</td>\n",
       "      <td>233453600</td>\n",
       "      <td>27.618246</td>\n",
       "    </tr>\n",
       "  </tbody>\n",
       "</table>\n",
       "<p>103 rows × 7 columns</p>\n",
       "</div>"
      ],
      "text/plain": [
       "Price        Date      Close       High        Low       Open     Volume  \\\n",
       "Ticker                  AAPL       AAPL       AAPL       AAPL       AAPL   \n",
       "0      2015-04-20  28.496607  28.612736  27.953921  28.043252  188217200   \n",
       "1      2015-04-21  28.342524  28.630615  28.288924  28.608284  129740400   \n",
       "2      2015-04-22  28.724401  28.780233  28.210749  28.360378  150618000   \n",
       "3      2015-04-23  28.958893  29.126389  28.617202  28.652935  183083600   \n",
       "4      2015-04-24  29.095135  29.173301  28.860640  29.142035  178103600   \n",
       "..            ...        ...        ...        ...        ...        ...   \n",
       "98     2015-09-08  25.300711  25.357030  24.852413  25.174557  219374400   \n",
       "99     2015-09-09  24.814114  25.685929  24.728508  25.627359  340043200   \n",
       "100    2015-09-10  25.359280  25.519225  24.757794  24.841145  251571200   \n",
       "101    2015-09-11  25.728731  25.728731  25.176807  25.183565  199662000   \n",
       "102    2015-09-14  25.976540  26.332476  25.875166  26.262641  233453600   \n",
       "\n",
       "Price      MA_100  \n",
       "Ticker             \n",
       "0             NaN  \n",
       "1             NaN  \n",
       "2             NaN  \n",
       "3             NaN  \n",
       "4             NaN  \n",
       "..            ...  \n",
       "98            NaN  \n",
       "99      27.703236  \n",
       "100     27.671863  \n",
       "101     27.645725  \n",
       "102     27.618246  \n",
       "\n",
       "[103 rows x 7 columns]"
      ]
     },
     "execution_count": 60,
     "metadata": {},
     "output_type": "execute_result"
    }
   ],
   "source": [
    "df.head(103)"
   ]
  },
  {
   "cell_type": "code",
   "execution_count": 61,
   "id": "0a3c55c8-34dc-45d2-858d-1c253f93a8cc",
   "metadata": {},
   "outputs": [
    {
     "data": {
      "text/plain": [
       "Text(0, 0.5, 'Price')"
      ]
     },
     "execution_count": 61,
     "metadata": {},
     "output_type": "execute_result"
    },
    {
     "data": {
      "image/png": "[encoded data removed]",
      "text/plain": [
       "<Figure size 1200x500 with 1 Axes>"
      ]
     },
     "metadata": {},
     "output_type": "display_data"
    }
   ],
   "source": [
    "plt.figure(figsize=(12,5))\n",
    "plt.plot(df.Close)\n",
    "plt.plot(df['MA_100'], 'r')\n",
    "plt.title('100 Days Moving Average')\n",
    "plt.xlabel('Days')\n",
    "plt.ylabel('Price')"
   ]
  },
  {
   "cell_type": "markdown",
   "id": "f972cd5a-9c74-4fd4-81ec-dabe5e28bc1e",
   "metadata": {},
   "source": [
    "## 200 Days Moving Average "
   ]
  },
  {
   "cell_type": "code",
   "execution_count": 62,
   "id": "62fba9de-2b63-4e0a-b05d-160c9fb69298",
   "metadata": {},
   "outputs": [
    {
     "data": {
      "text/html": [
       "<div>\n",
       "<style scoped>\n",
       "    .dataframe tbody tr th:only-of-type {\n",
       "        vertical-align: middle;\n",
       "    }\n",
       "\n",
       "    .dataframe tbody tr th {\n",
       "        vertical-align: top;\n",
       "    }\n",
       "\n",
       "    .dataframe thead tr th {\n",
       "        text-align: left;\n",
       "    }\n",
       "</style>\n",
       "<table border=\"1\" class=\"dataframe\">\n",
       "  <thead>\n",
       "    <tr>\n",
       "      <th>Price</th>\n",
       "      <th>Date</th>\n",
       "      <th>Close</th>\n",
       "      <th>High</th>\n",
       "      <th>Low</th>\n",
       "      <th>Open</th>\n",
       "      <th>Volume</th>\n",
       "      <th>MA_100</th>\n",
       "      <th>MA_200</th>\n",
       "    </tr>\n",
       "    <tr>\n",
       "      <th>Ticker</th>\n",
       "      <th></th>\n",
       "      <th>AAPL</th>\n",
       "      <th>AAPL</th>\n",
       "      <th>AAPL</th>\n",
       "      <th>AAPL</th>\n",
       "      <th>AAPL</th>\n",
       "      <th></th>\n",
       "      <th></th>\n",
       "    </tr>\n",
       "  </thead>\n",
       "  <tbody>\n",
       "    <tr>\n",
       "      <th>0</th>\n",
       "      <td>2015-04-20</td>\n",
       "      <td>28.496607</td>\n",
       "      <td>28.612736</td>\n",
       "      <td>27.953921</td>\n",
       "      <td>28.043252</td>\n",
       "      <td>188217200</td>\n",
       "      <td>NaN</td>\n",
       "      <td>NaN</td>\n",
       "    </tr>\n",
       "    <tr>\n",
       "      <th>1</th>\n",
       "      <td>2015-04-21</td>\n",
       "      <td>28.342524</td>\n",
       "      <td>28.630615</td>\n",
       "      <td>28.288924</td>\n",
       "      <td>28.608284</td>\n",
       "      <td>129740400</td>\n",
       "      <td>NaN</td>\n",
       "      <td>NaN</td>\n",
       "    </tr>\n",
       "    <tr>\n",
       "      <th>2</th>\n",
       "      <td>2015-04-22</td>\n",
       "      <td>28.724401</td>\n",
       "      <td>28.780233</td>\n",
       "      <td>28.210749</td>\n",
       "      <td>28.360378</td>\n",
       "      <td>150618000</td>\n",
       "      <td>NaN</td>\n",
       "      <td>NaN</td>\n",
       "    </tr>\n",
       "    <tr>\n",
       "      <th>3</th>\n",
       "      <td>2015-04-23</td>\n",
       "      <td>28.958893</td>\n",
       "      <td>29.126389</td>\n",
       "      <td>28.617202</td>\n",
       "      <td>28.652935</td>\n",
       "      <td>183083600</td>\n",
       "      <td>NaN</td>\n",
       "      <td>NaN</td>\n",
       "    </tr>\n",
       "    <tr>\n",
       "      <th>4</th>\n",
       "      <td>2015-04-24</td>\n",
       "      <td>29.095135</td>\n",
       "      <td>29.173301</td>\n",
       "      <td>28.860640</td>\n",
       "      <td>29.142035</td>\n",
       "      <td>178103600</td>\n",
       "      <td>NaN</td>\n",
       "      <td>NaN</td>\n",
       "    </tr>\n",
       "    <tr>\n",
       "      <th>...</th>\n",
       "      <td>...</td>\n",
       "      <td>...</td>\n",
       "      <td>...</td>\n",
       "      <td>...</td>\n",
       "      <td>...</td>\n",
       "      <td>...</td>\n",
       "      <td>...</td>\n",
       "      <td>...</td>\n",
       "    </tr>\n",
       "    <tr>\n",
       "      <th>198</th>\n",
       "      <td>2016-02-01</td>\n",
       "      <td>21.816315</td>\n",
       "      <td>21.879662</td>\n",
       "      <td>21.583288</td>\n",
       "      <td>21.825365</td>\n",
       "      <td>163774000</td>\n",
       "      <td>25.064099</td>\n",
       "      <td>NaN</td>\n",
       "    </tr>\n",
       "    <tr>\n",
       "      <th>199</th>\n",
       "      <td>2016-02-02</td>\n",
       "      <td>21.375149</td>\n",
       "      <td>21.728083</td>\n",
       "      <td>21.329900</td>\n",
       "      <td>21.587813</td>\n",
       "      <td>149428800</td>\n",
       "      <td>25.029710</td>\n",
       "      <td>26.366473</td>\n",
       "    </tr>\n",
       "    <tr>\n",
       "      <th>200</th>\n",
       "      <td>2016-02-03</td>\n",
       "      <td>21.798216</td>\n",
       "      <td>21.909073</td>\n",
       "      <td>21.284652</td>\n",
       "      <td>21.492792</td>\n",
       "      <td>183857200</td>\n",
       "      <td>24.994099</td>\n",
       "      <td>26.332981</td>\n",
       "    </tr>\n",
       "    <tr>\n",
       "      <th>201</th>\n",
       "      <td>2016-02-04</td>\n",
       "      <td>21.973368</td>\n",
       "      <td>22.139420</td>\n",
       "      <td>21.652639</td>\n",
       "      <td>21.805042</td>\n",
       "      <td>185886800</td>\n",
       "      <td>24.956545</td>\n",
       "      <td>26.301135</td>\n",
       "    </tr>\n",
       "    <tr>\n",
       "      <th>202</th>\n",
       "      <td>2016-02-05</td>\n",
       "      <td>21.386501</td>\n",
       "      <td>22.046158</td>\n",
       "      <td>21.311438</td>\n",
       "      <td>21.955170</td>\n",
       "      <td>185672400</td>\n",
       "      <td>24.910645</td>\n",
       "      <td>26.264446</td>\n",
       "    </tr>\n",
       "  </tbody>\n",
       "</table>\n",
       "<p>203 rows × 8 columns</p>\n",
       "</div>"
      ],
      "text/plain": [
       "Price        Date      Close       High        Low       Open     Volume  \\\n",
       "Ticker                  AAPL       AAPL       AAPL       AAPL       AAPL   \n",
       "0      2015-04-20  28.496607  28.612736  27.953921  28.043252  188217200   \n",
       "1      2015-04-21  28.342524  28.630615  28.288924  28.608284  129740400   \n",
       "2      2015-04-22  28.724401  28.780233  28.210749  28.360378  150618000   \n",
       "3      2015-04-23  28.958893  29.126389  28.617202  28.652935  183083600   \n",
       "4      2015-04-24  29.095135  29.173301  28.860640  29.142035  178103600   \n",
       "..            ...        ...        ...        ...        ...        ...   \n",
       "198    2016-02-01  21.816315  21.879662  21.583288  21.825365  163774000   \n",
       "199    2016-02-02  21.375149  21.728083  21.329900  21.587813  149428800   \n",
       "200    2016-02-03  21.798216  21.909073  21.284652  21.492792  183857200   \n",
       "201    2016-02-04  21.973368  22.139420  21.652639  21.805042  185886800   \n",
       "202    2016-02-05  21.386501  22.046158  21.311438  21.955170  185672400   \n",
       "\n",
       "Price      MA_100     MA_200  \n",
       "Ticker                        \n",
       "0             NaN        NaN  \n",
       "1             NaN        NaN  \n",
       "2             NaN        NaN  \n",
       "3             NaN        NaN  \n",
       "4             NaN        NaN  \n",
       "..            ...        ...  \n",
       "198     25.064099        NaN  \n",
       "199     25.029710  26.366473  \n",
       "200     24.994099  26.332981  \n",
       "201     24.956545  26.301135  \n",
       "202     24.910645  26.264446  \n",
       "\n",
       "[203 rows x 8 columns]"
      ]
     },
     "execution_count": 62,
     "metadata": {},
     "output_type": "execute_result"
    }
   ],
   "source": [
    "df['MA_200'] = df.Close.rolling(200).mean()\n",
    "df.head(203)"
   ]
  },
  {
   "cell_type": "code",
   "execution_count": 63,
   "id": "be49f55d-2856-4501-b982-ff0391cbc52a",
   "metadata": {},
   "outputs": [
    {
     "data": {
      "text/plain": [
       "Text(0, 0.5, 'Price')"
      ]
     },
     "execution_count": 63,
     "metadata": {},
     "output_type": "execute_result"
    },
    {
     "data": {
      "image/png": "[encoded data removed]",
      "text/plain": [
       "<Figure size 1200x500 with 1 Axes>"
      ]
     },
     "metadata": {},
     "output_type": "display_data"
    }
   ],
   "source": [
    "plt.figure(figsize=(12,5))\n",
    "plt.plot(df.Close)\n",
    "plt.plot(df['MA_100'], 'r')\n",
    "plt.plot(df['MA_200'], 'g')\n",
    "plt.title('200 Days Moving Average')\n",
    "plt.xlabel('Days')\n",
    "plt.ylabel('Price')"
   ]
  },
  {
   "cell_type": "markdown",
   "id": "dc952193-0ad6-486a-86f6-d202c3a501fd",
   "metadata": {},
   "source": [
    "## Calculating % changed in each trading session"
   ]
  },
  {
   "cell_type": "code",
   "execution_count": 64,
   "id": "a56f2012-07e7-422c-89da-0086bff834f2",
   "metadata": {},
   "outputs": [
    {
     "data": {
      "text/html": [
       "<div>\n",
       "<style scoped>\n",
       "    .dataframe tbody tr th:only-of-type {\n",
       "        vertical-align: middle;\n",
       "    }\n",
       "\n",
       "    .dataframe tbody tr th {\n",
       "        vertical-align: top;\n",
       "    }\n",
       "\n",
       "    .dataframe thead tr th {\n",
       "        text-align: left;\n",
       "    }\n",
       "</style>\n",
       "<table border=\"1\" class=\"dataframe\">\n",
       "  <thead>\n",
       "    <tr>\n",
       "      <th>Price</th>\n",
       "      <th>Close</th>\n",
       "      <th>Percentage Changed</th>\n",
       "    </tr>\n",
       "    <tr>\n",
       "      <th>Ticker</th>\n",
       "      <th>AAPL</th>\n",
       "      <th></th>\n",
       "    </tr>\n",
       "  </thead>\n",
       "  <tbody>\n",
       "    <tr>\n",
       "      <th>0</th>\n",
       "      <td>28.496607</td>\n",
       "      <td>NaN</td>\n",
       "    </tr>\n",
       "    <tr>\n",
       "      <th>1</th>\n",
       "      <td>28.342524</td>\n",
       "      <td>-0.005407</td>\n",
       "    </tr>\n",
       "    <tr>\n",
       "      <th>2</th>\n",
       "      <td>28.724401</td>\n",
       "      <td>0.013474</td>\n",
       "    </tr>\n",
       "    <tr>\n",
       "      <th>3</th>\n",
       "      <td>28.958893</td>\n",
       "      <td>0.008163</td>\n",
       "    </tr>\n",
       "    <tr>\n",
       "      <th>4</th>\n",
       "      <td>29.095135</td>\n",
       "      <td>0.004705</td>\n",
       "    </tr>\n",
       "    <tr>\n",
       "      <th>...</th>\n",
       "      <td>...</td>\n",
       "      <td>...</td>\n",
       "    </tr>\n",
       "    <tr>\n",
       "      <th>2511</th>\n",
       "      <td>198.149994</td>\n",
       "      <td>0.040594</td>\n",
       "    </tr>\n",
       "    <tr>\n",
       "      <th>2512</th>\n",
       "      <td>202.520004</td>\n",
       "      <td>0.022054</td>\n",
       "    </tr>\n",
       "    <tr>\n",
       "      <th>2513</th>\n",
       "      <td>202.139999</td>\n",
       "      <td>-0.001876</td>\n",
       "    </tr>\n",
       "    <tr>\n",
       "      <th>2514</th>\n",
       "      <td>194.270004</td>\n",
       "      <td>-0.038933</td>\n",
       "    </tr>\n",
       "    <tr>\n",
       "      <th>2515</th>\n",
       "      <td>196.979996</td>\n",
       "      <td>0.013950</td>\n",
       "    </tr>\n",
       "  </tbody>\n",
       "</table>\n",
       "<p>2516 rows × 2 columns</p>\n",
       "</div>"
      ],
      "text/plain": [
       "Price        Close Percentage Changed\n",
       "Ticker        AAPL                   \n",
       "0        28.496607                NaN\n",
       "1        28.342524          -0.005407\n",
       "2        28.724401           0.013474\n",
       "3        28.958893           0.008163\n",
       "4        29.095135           0.004705\n",
       "...            ...                ...\n",
       "2511    198.149994           0.040594\n",
       "2512    202.520004           0.022054\n",
       "2513    202.139999          -0.001876\n",
       "2514    194.270004          -0.038933\n",
       "2515    196.979996           0.013950\n",
       "\n",
       "[2516 rows x 2 columns]"
      ]
     },
     "execution_count": 64,
     "metadata": {},
     "output_type": "execute_result"
    }
   ],
   "source": [
    "df['Percentage Changed'] = df.Close.pct_change()\n",
    "df[['Close', 'Percentage Changed']]"
   ]
  },
  {
   "cell_type": "code",
   "execution_count": 65,
   "id": "d4be901d-205a-41e4-8101-3c9cfd5b8c6c",
   "metadata": {},
   "outputs": [
    {
     "data": {
      "text/plain": [
       "Ticker\n",
       "AAPL    float64\n",
       "dtype: object"
      ]
     },
     "execution_count": 65,
     "metadata": {},
     "output_type": "execute_result"
    }
   ],
   "source": [
    "df['Close'].dtypes\n"
   ]
  },
  {
   "cell_type": "code",
   "execution_count": 66,
   "id": "a3758526-10ea-4298-b82f-49767f348f03",
   "metadata": {},
   "outputs": [
    {
     "data": {
      "text/plain": [
       "[<matplotlib.lines.Line2D at 0x16c8c72b0>]"
      ]
     },
     "execution_count": 66,
     "metadata": {},
     "output_type": "execute_result"
    },
    {
     "data": {
      "image/png": "[encoded data removed]",
      "text/plain": [
       "<Figure size 1200x500 with 1 Axes>"
      ]
     },
     "metadata": {},
     "output_type": "display_data"
    }
   ],
   "source": [
    "plt.figure(figsize=(12,5))\n",
    "plt.plot(df['Percentage Changed'])"
   ]
  },
  {
   "cell_type": "markdown",
   "id": "3f83beb4-4f54-4387-b9f8-f92f231adffb",
   "metadata": {},
   "source": [
    "# 4. Data Preprocessing "
   ]
  },
  {
   "cell_type": "code",
   "execution_count": 67,
   "id": "db3755ef-d334-4117-901e-27890ae515bf",
   "metadata": {},
   "outputs": [
    {
     "data": {
      "text/plain": [
       "(2516, 9)"
      ]
     },
     "execution_count": 67,
     "metadata": {},
     "output_type": "execute_result"
    }
   ],
   "source": [
    "df.shape"
   ]
  },
  {
   "cell_type": "markdown",
   "id": "1feeb318-7740-4ec4-987c-a471b78ac2b5",
   "metadata": {},
   "source": [
    "### spliting data into Training & Testing datasets"
   ]
  },
  {
   "cell_type": "code",
   "execution_count": 68,
   "id": "5efaf443-e634-457a-8639-353b7dda46f6",
   "metadata": {},
   "outputs": [],
   "source": [
    "data_training = pd.DataFrame(df.Close[0:int(len(df)*0.7)]) #70% data\n",
    "\n",
    "data_testing = pd.DataFrame(df.Close[int(len(df)*0.7) : len(df)]) #30% data"
   ]
  },
  {
   "cell_type": "code",
   "execution_count": 69,
   "id": "c772ec87-bae4-4c17-a6ef-ae25f54b9304",
   "metadata": {},
   "outputs": [
    {
     "data": {
      "text/html": [
       "<div>\n",
       "<style scoped>\n",
       "    .dataframe tbody tr th:only-of-type {\n",
       "        vertical-align: middle;\n",
       "    }\n",
       "\n",
       "    .dataframe tbody tr th {\n",
       "        vertical-align: top;\n",
       "    }\n",
       "\n",
       "    .dataframe thead th {\n",
       "        text-align: right;\n",
       "    }\n",
       "</style>\n",
       "<table border=\"1\" class=\"dataframe\">\n",
       "  <thead>\n",
       "    <tr style=\"text-align: right;\">\n",
       "      <th>Ticker</th>\n",
       "      <th>AAPL</th>\n",
       "    </tr>\n",
       "  </thead>\n",
       "  <tbody>\n",
       "    <tr>\n",
       "      <th>0</th>\n",
       "      <td>28.496607</td>\n",
       "    </tr>\n",
       "    <tr>\n",
       "      <th>1</th>\n",
       "      <td>28.342524</td>\n",
       "    </tr>\n",
       "    <tr>\n",
       "      <th>2</th>\n",
       "      <td>28.724401</td>\n",
       "    </tr>\n",
       "    <tr>\n",
       "      <th>3</th>\n",
       "      <td>28.958893</td>\n",
       "    </tr>\n",
       "    <tr>\n",
       "      <th>4</th>\n",
       "      <td>29.095135</td>\n",
       "    </tr>\n",
       "    <tr>\n",
       "      <th>...</th>\n",
       "      <td>...</td>\n",
       "    </tr>\n",
       "    <tr>\n",
       "      <th>1756</th>\n",
       "      <td>169.395187</td>\n",
       "    </tr>\n",
       "    <tr>\n",
       "      <th>1757</th>\n",
       "      <td>167.377869</td>\n",
       "    </tr>\n",
       "    <tr>\n",
       "      <th>1758</th>\n",
       "      <td>163.107101</td>\n",
       "    </tr>\n",
       "    <tr>\n",
       "      <th>1759</th>\n",
       "      <td>164.986633</td>\n",
       "    </tr>\n",
       "    <tr>\n",
       "      <th>1760</th>\n",
       "      <td>167.682938</td>\n",
       "    </tr>\n",
       "  </tbody>\n",
       "</table>\n",
       "<p>1761 rows × 1 columns</p>\n",
       "</div>"
      ],
      "text/plain": [
       "Ticker        AAPL\n",
       "0        28.496607\n",
       "1        28.342524\n",
       "2        28.724401\n",
       "3        28.958893\n",
       "4        29.095135\n",
       "...            ...\n",
       "1756    169.395187\n",
       "1757    167.377869\n",
       "1758    163.107101\n",
       "1759    164.986633\n",
       "1760    167.682938\n",
       "\n",
       "[1761 rows x 1 columns]"
      ]
     },
     "execution_count": 69,
     "metadata": {},
     "output_type": "execute_result"
    }
   ],
   "source": [
    "data_training"
   ]
  },
  {
   "cell_type": "code",
   "execution_count": 70,
   "id": "16aad094-f433-46f1-bf46-2203c6e32b85",
   "metadata": {},
   "outputs": [
    {
     "data": {
      "text/html": [
       "<div>\n",
       "<style scoped>\n",
       "    .dataframe tbody tr th:only-of-type {\n",
       "        vertical-align: middle;\n",
       "    }\n",
       "\n",
       "    .dataframe tbody tr th {\n",
       "        vertical-align: top;\n",
       "    }\n",
       "\n",
       "    .dataframe thead th {\n",
       "        text-align: right;\n",
       "    }\n",
       "</style>\n",
       "<table border=\"1\" class=\"dataframe\">\n",
       "  <thead>\n",
       "    <tr style=\"text-align: right;\">\n",
       "      <th>Ticker</th>\n",
       "      <th>AAPL</th>\n",
       "    </tr>\n",
       "  </thead>\n",
       "  <tbody>\n",
       "    <tr>\n",
       "      <th>1761</th>\n",
       "      <td>162.654404</td>\n",
       "    </tr>\n",
       "    <tr>\n",
       "      <th>1762</th>\n",
       "      <td>162.437943</td>\n",
       "    </tr>\n",
       "    <tr>\n",
       "      <th>1763</th>\n",
       "      <td>164.730774</td>\n",
       "    </tr>\n",
       "    <tr>\n",
       "      <th>1764</th>\n",
       "      <td>164.563477</td>\n",
       "    </tr>\n",
       "    <tr>\n",
       "      <th>1765</th>\n",
       "      <td>163.766403</td>\n",
       "    </tr>\n",
       "    <tr>\n",
       "      <th>...</th>\n",
       "      <td>...</td>\n",
       "    </tr>\n",
       "    <tr>\n",
       "      <th>2511</th>\n",
       "      <td>198.149994</td>\n",
       "    </tr>\n",
       "    <tr>\n",
       "      <th>2512</th>\n",
       "      <td>202.520004</td>\n",
       "    </tr>\n",
       "    <tr>\n",
       "      <th>2513</th>\n",
       "      <td>202.139999</td>\n",
       "    </tr>\n",
       "    <tr>\n",
       "      <th>2514</th>\n",
       "      <td>194.270004</td>\n",
       "    </tr>\n",
       "    <tr>\n",
       "      <th>2515</th>\n",
       "      <td>196.979996</td>\n",
       "    </tr>\n",
       "  </tbody>\n",
       "</table>\n",
       "<p>755 rows × 1 columns</p>\n",
       "</div>"
      ],
      "text/plain": [
       "Ticker        AAPL\n",
       "1761    162.654404\n",
       "1762    162.437943\n",
       "1763    164.730774\n",
       "1764    164.563477\n",
       "1765    163.766403\n",
       "...            ...\n",
       "2511    198.149994\n",
       "2512    202.520004\n",
       "2513    202.139999\n",
       "2514    194.270004\n",
       "2515    196.979996\n",
       "\n",
       "[755 rows x 1 columns]"
      ]
     },
     "execution_count": 70,
     "metadata": {},
     "output_type": "execute_result"
    }
   ],
   "source": [
    "data_testing"
   ]
  },
  {
   "cell_type": "markdown",
   "id": "ea62c105-8752-4353-8bf2-9b77688154e1",
   "metadata": {},
   "source": [
    "### Scaling down the data between 0 and 1"
   ]
  },
  {
   "cell_type": "code",
   "execution_count": 71,
   "id": "6257833b-6ce6-4dce-8da5-3cbd955d07b2",
   "metadata": {},
   "outputs": [],
   "source": [
    "from sklearn.preprocessing import MinMaxScaler\n",
    "scaler = MinMaxScaler(feature_range=(0,1))"
   ]
  },
  {
   "cell_type": "code",
   "execution_count": 72,
   "id": "db98f147-f598-4639-8151-2594ed66a146",
   "metadata": {},
   "outputs": [],
   "source": [
    "data_training_array = scaler.fit_transform(data_training)"
   ]
  },
  {
   "cell_type": "code",
   "execution_count": 73,
   "id": "193f9246-6f9c-439e-b8a1-94587727b9b8",
   "metadata": {},
   "outputs": [
    {
     "data": {
      "text/plain": [
       "array([[0.04944251],\n",
       "       [0.04846856],\n",
       "       [0.05088237],\n",
       "       ...,\n",
       "       [0.90030158],\n",
       "       [0.91218191],\n",
       "       [0.92922497]])"
      ]
     },
     "execution_count": 73,
     "metadata": {},
     "output_type": "execute_result"
    }
   ],
   "source": [
    "data_training_array"
   ]
  },
  {
   "cell_type": "code",
   "execution_count": 74,
   "id": "8bc42727-fa33-4e5e-aa8c-437afe857d40",
   "metadata": {},
   "outputs": [
    {
     "data": {
      "text/plain": [
       "(1761, 1)"
      ]
     },
     "execution_count": 74,
     "metadata": {},
     "output_type": "execute_result"
    }
   ],
   "source": [
    "data_training_array.shape"
   ]
  },
  {
   "cell_type": "markdown",
   "id": "fcd65301-55bb-45b8-9653-d0708821052f",
   "metadata": {},
   "source": [
    "# 5. Sequence Creation"
   ]
  },
  {
   "cell_type": "code",
   "execution_count": 75,
   "id": "386e2ac5-779e-4e39-9f4b-18a835508161",
   "metadata": {},
   "outputs": [],
   "source": [
    "x_train = []\n",
    "y_train = []\n",
    "\n",
    "# taking 100 days step wise data\n",
    "for i in range(100,data_training_array.shape[0]): \n",
    "    x_train.append(data_training_array[i-100: i])\n",
    "    y_train.append(data_training_array[i,0])\n",
    "\n",
    "x_train = np.array(x_train)\n",
    "y_train = np.array(y_train)"
   ]
  },
  {
   "cell_type": "code",
   "execution_count": 76,
   "id": "ab466b8f-443a-4255-8406-77c0cc10de01",
   "metadata": {},
   "outputs": [
    {
     "data": {
      "text/plain": [
       "(1661,)"
      ]
     },
     "execution_count": 76,
     "metadata": {},
     "output_type": "execute_result"
    }
   ],
   "source": [
    "x_train.shape\n",
    "y_train.shape\n"
   ]
  },
  {
   "cell_type": "markdown",
   "id": "fee28744-50bd-47cc-8764-54fc4efca776",
   "metadata": {},
   "source": [
    "# 6. Model Building"
   ]
  },
  {
   "cell_type": "code",
   "execution_count": 77,
   "id": "814a1512-3209-4c2d-8e4d-787a3e29a79a",
   "metadata": {},
   "outputs": [],
   "source": [
    "# ML Model\n",
    "from keras.models import Sequential\n",
    "from keras.layers import Dense, LSTM, Input"
   ]
  },
  {
   "cell_type": "code",
   "execution_count": 78,
   "id": "f85c79f9-cfe2-4cf6-9c4d-b7788911f030",
   "metadata": {},
   "outputs": [],
   "source": [
    "model = Sequential()\n",
    "\n",
    "# Input layer:\n",
    "# The model expects sequences of 100 days, each with 1 feature ('Close' price).\n",
    "# So, the input shape is (100 time steps, 1 feature per step).\n",
    "model.add(Input(shape=(100, 1)))\n",
    "\n",
    "# First LSTM layer:\n",
    "# This layer has 128 units (or memory cells) and uses the 'tanh' activation function.\n",
    "# It returns the full sequence of outputs (one for each time step) to the next LSTM layer.\n",
    "# It helps the model learn patterns over time in the past 100 days of closing prices.\n",
    "model.add(LSTM(units=128, activation='tanh', return_sequences=True)) \n",
    "\n",
    "# Second LSTM layer:\n",
    "# This layer has 64 units and only returns the final output of the sequence,\n",
    "# summarizing all the learned information into a single output vector.\n",
    "model.add(LSTM(units=64))\n",
    "\n",
    "# Dense (fully connected) layer with 25 neurons:\n",
    "# This layer tries to learn complex combinations from the LSTM output.\n",
    "# It's like a mini hidden layer to prepare for the final prediction.\n",
    "model.add(Dense(25))\n",
    "\n",
    "# Output layer:\n",
    "# This final layer has 1 neuron, which gives the predicted price for the next day.\n",
    "model.add(Dense(1))\n"
   ]
  },
  {
   "cell_type": "markdown",
   "id": "fe1d91d9-85cf-4e70-b653-1f51332a8e9f",
   "metadata": {},
   "source": [
    "# 7. Model Training"
   ]
  },
  {
   "cell_type": "code",
   "execution_count": 79,
   "id": "4e7235ed-587f-4503-b651-dfc2716bee53",
   "metadata": {},
   "outputs": [
    {
     "name": "stdout",
     "output_type": "stream",
     "text": [
      "Epoch 1/50\n",
      "\u001b[1m52/52\u001b[0m \u001b[32m━━━━━━━━━━━━━━━━━━━━\u001b[0m\u001b[37m\u001b[0m \u001b[1m3s\u001b[0m 48ms/step - loss: 0.0345\n",
      "Epoch 2/50\n",
      "\u001b[1m52/52\u001b[0m \u001b[32m━━━━━━━━━━━━━━━━━━━━\u001b[0m\u001b[37m\u001b[0m \u001b[1m3s\u001b[0m 50ms/step - loss: 3.8939e-04\n",
      "Epoch 3/50\n",
      "\u001b[1m52/52\u001b[0m \u001b[32m━━━━━━━━━━━━━━━━━━━━\u001b[0m\u001b[37m\u001b[0m \u001b[1m3s\u001b[0m 55ms/step - loss: 4.4212e-04\n",
      "Epoch 4/50\n",
      "\u001b[1m52/52\u001b[0m \u001b[32m━━━━━━━━━━━━━━━━━━━━\u001b[0m\u001b[37m\u001b[0m \u001b[1m3s\u001b[0m 53ms/step - loss: 3.8569e-04\n",
      "Epoch 5/50\n",
      "\u001b[1m52/52\u001b[0m \u001b[32m━━━━━━━━━━━━━━━━━━━━\u001b[0m\u001b[37m\u001b[0m \u001b[1m3s\u001b[0m 53ms/step - loss: 3.9007e-04\n",
      "Epoch 6/50\n",
      "\u001b[1m52/52\u001b[0m \u001b[32m━━━━━━━━━━━━━━━━━━━━\u001b[0m\u001b[37m\u001b[0m \u001b[1m3s\u001b[0m 54ms/step - loss: 4.1319e-04\n",
      "Epoch 7/50\n",
      "\u001b[1m52/52\u001b[0m \u001b[32m━━━━━━━━━━━━━━━━━━━━\u001b[0m\u001b[37m\u001b[0m \u001b[1m3s\u001b[0m 54ms/step - loss: 5.3452e-04\n",
      "Epoch 8/50\n",
      "\u001b[1m52/52\u001b[0m \u001b[32m━━━━━━━━━━━━━━━━━━━━\u001b[0m\u001b[37m\u001b[0m \u001b[1m3s\u001b[0m 55ms/step - loss: 4.9010e-04\n",
      "Epoch 9/50\n",
      "\u001b[1m52/52\u001b[0m \u001b[32m━━━━━━━━━━━━━━━━━━━━\u001b[0m\u001b[37m\u001b[0m \u001b[1m3s\u001b[0m 54ms/step - loss: 4.3366e-04\n",
      "Epoch 10/50\n",
      "\u001b[1m52/52\u001b[0m \u001b[32m━━━━━━━━━━━━━━━━━━━━\u001b[0m\u001b[37m\u001b[0m \u001b[1m3s\u001b[0m 55ms/step - loss: 3.6420e-04\n",
      "Epoch 11/50\n",
      "\u001b[1m52/52\u001b[0m \u001b[32m━━━━━━━━━━━━━━━━━━━━\u001b[0m\u001b[37m\u001b[0m \u001b[1m3s\u001b[0m 54ms/step - loss: 2.9942e-04\n",
      "Epoch 12/50\n",
      "\u001b[1m52/52\u001b[0m \u001b[32m━━━━━━━━━━━━━━━━━━━━\u001b[0m\u001b[37m\u001b[0m \u001b[1m3s\u001b[0m 55ms/step - loss: 3.8615e-04\n",
      "Epoch 13/50\n",
      "\u001b[1m52/52\u001b[0m \u001b[32m━━━━━━━━━━━━━━━━━━━━\u001b[0m\u001b[37m\u001b[0m \u001b[1m3s\u001b[0m 54ms/step - loss: 3.6453e-04\n",
      "Epoch 14/50\n",
      "\u001b[1m52/52\u001b[0m \u001b[32m━━━━━━━━━━━━━━━━━━━━\u001b[0m\u001b[37m\u001b[0m \u001b[1m3s\u001b[0m 55ms/step - loss: 3.8707e-04\n",
      "Epoch 15/50\n",
      "\u001b[1m52/52\u001b[0m \u001b[32m━━━━━━━━━━━━━━━━━━━━\u001b[0m\u001b[37m\u001b[0m \u001b[1m3s\u001b[0m 55ms/step - loss: 2.6258e-04\n",
      "Epoch 16/50\n",
      "\u001b[1m52/52\u001b[0m \u001b[32m━━━━━━━━━━━━━━━━━━━━\u001b[0m\u001b[37m\u001b[0m \u001b[1m3s\u001b[0m 55ms/step - loss: 3.0196e-04\n",
      "Epoch 17/50\n",
      "\u001b[1m52/52\u001b[0m \u001b[32m━━━━━━━━━━━━━━━━━━━━\u001b[0m\u001b[37m\u001b[0m \u001b[1m3s\u001b[0m 55ms/step - loss: 2.5065e-04\n",
      "Epoch 18/50\n",
      "\u001b[1m52/52\u001b[0m \u001b[32m━━━━━━━━━━━━━━━━━━━━\u001b[0m\u001b[37m\u001b[0m \u001b[1m3s\u001b[0m 54ms/step - loss: 2.3502e-04\n",
      "Epoch 19/50\n",
      "\u001b[1m52/52\u001b[0m \u001b[32m━━━━━━━━━━━━━━━━━━━━\u001b[0m\u001b[37m\u001b[0m \u001b[1m3s\u001b[0m 53ms/step - loss: 2.3598e-04\n",
      "Epoch 20/50\n",
      "\u001b[1m52/52\u001b[0m \u001b[32m━━━━━━━━━━━━━━━━━━━━\u001b[0m\u001b[37m\u001b[0m \u001b[1m3s\u001b[0m 53ms/step - loss: 2.4171e-04\n",
      "Epoch 21/50\n",
      "\u001b[1m52/52\u001b[0m \u001b[32m━━━━━━━━━━━━━━━━━━━━\u001b[0m\u001b[37m\u001b[0m \u001b[1m3s\u001b[0m 55ms/step - loss: 2.6558e-04\n",
      "Epoch 22/50\n",
      "\u001b[1m52/52\u001b[0m \u001b[32m━━━━━━━━━━━━━━━━━━━━\u001b[0m\u001b[37m\u001b[0m \u001b[1m3s\u001b[0m 54ms/step - loss: 2.6368e-04\n",
      "Epoch 23/50\n",
      "\u001b[1m52/52\u001b[0m \u001b[32m━━━━━━━━━━━━━━━━━━━━\u001b[0m\u001b[37m\u001b[0m \u001b[1m3s\u001b[0m 53ms/step - loss: 2.4169e-04\n",
      "Epoch 24/50\n",
      "\u001b[1m52/52\u001b[0m \u001b[32m━━━━━━━━━━━━━━━━━━━━\u001b[0m\u001b[37m\u001b[0m \u001b[1m3s\u001b[0m 55ms/step - loss: 2.1006e-04\n",
      "Epoch 25/50\n",
      "\u001b[1m52/52\u001b[0m \u001b[32m━━━━━━━━━━━━━━━━━━━━\u001b[0m\u001b[37m\u001b[0m \u001b[1m3s\u001b[0m 54ms/step - loss: 2.0090e-04\n",
      "Epoch 26/50\n",
      "\u001b[1m52/52\u001b[0m \u001b[32m━━━━━━━━━━━━━━━━━━━━\u001b[0m\u001b[37m\u001b[0m \u001b[1m3s\u001b[0m 55ms/step - loss: 2.2710e-04\n",
      "Epoch 27/50\n",
      "\u001b[1m52/52\u001b[0m \u001b[32m━━━━━━━━━━━━━━━━━━━━\u001b[0m\u001b[37m\u001b[0m \u001b[1m3s\u001b[0m 55ms/step - loss: 1.7542e-04\n",
      "Epoch 28/50\n",
      "\u001b[1m52/52\u001b[0m \u001b[32m━━━━━━━━━━━━━━━━━━━━\u001b[0m\u001b[37m\u001b[0m \u001b[1m3s\u001b[0m 54ms/step - loss: 2.3296e-04\n",
      "Epoch 29/50\n",
      "\u001b[1m52/52\u001b[0m \u001b[32m━━━━━━━━━━━━━━━━━━━━\u001b[0m\u001b[37m\u001b[0m \u001b[1m3s\u001b[0m 54ms/step - loss: 1.8468e-04\n",
      "Epoch 30/50\n",
      "\u001b[1m52/52\u001b[0m \u001b[32m━━━━━━━━━━━━━━━━━━━━\u001b[0m\u001b[37m\u001b[0m \u001b[1m3s\u001b[0m 55ms/step - loss: 1.8627e-04\n",
      "Epoch 31/50\n",
      "\u001b[1m52/52\u001b[0m \u001b[32m━━━━━━━━━━━━━━━━━━━━\u001b[0m\u001b[37m\u001b[0m \u001b[1m5s\u001b[0m 55ms/step - loss: 1.8736e-04\n",
      "Epoch 32/50\n",
      "\u001b[1m52/52\u001b[0m \u001b[32m━━━━━━━━━━━━━━━━━━━━\u001b[0m\u001b[37m\u001b[0m \u001b[1m3s\u001b[0m 55ms/step - loss: 2.0006e-04\n",
      "Epoch 33/50\n",
      "\u001b[1m52/52\u001b[0m \u001b[32m━━━━━━━━━━━━━━━━━━━━\u001b[0m\u001b[37m\u001b[0m \u001b[1m3s\u001b[0m 55ms/step - loss: 1.8031e-04\n",
      "Epoch 34/50\n",
      "\u001b[1m52/52\u001b[0m \u001b[32m━━━━━━━━━━━━━━━━━━━━\u001b[0m\u001b[37m\u001b[0m \u001b[1m3s\u001b[0m 55ms/step - loss: 1.5099e-04\n",
      "Epoch 35/50\n",
      "\u001b[1m52/52\u001b[0m \u001b[32m━━━━━━━━━━━━━━━━━━━━\u001b[0m\u001b[37m\u001b[0m \u001b[1m3s\u001b[0m 55ms/step - loss: 1.5789e-04\n",
      "Epoch 36/50\n",
      "\u001b[1m52/52\u001b[0m \u001b[32m━━━━━━━━━━━━━━━━━━━━\u001b[0m\u001b[37m\u001b[0m \u001b[1m3s\u001b[0m 55ms/step - loss: 1.5550e-04\n",
      "Epoch 37/50\n",
      "\u001b[1m52/52\u001b[0m \u001b[32m━━━━━━━━━━━━━━━━━━━━\u001b[0m\u001b[37m\u001b[0m \u001b[1m3s\u001b[0m 55ms/step - loss: 1.5434e-04\n",
      "Epoch 38/50\n",
      "\u001b[1m52/52\u001b[0m \u001b[32m━━━━━━━━━━━━━━━━━━━━\u001b[0m\u001b[37m\u001b[0m \u001b[1m3s\u001b[0m 54ms/step - loss: 1.8696e-04\n",
      "Epoch 39/50\n",
      "\u001b[1m52/52\u001b[0m \u001b[32m━━━━━━━━━━━━━━━━━━━━\u001b[0m\u001b[37m\u001b[0m \u001b[1m3s\u001b[0m 54ms/step - loss: 1.3694e-04\n",
      "Epoch 40/50\n",
      "\u001b[1m52/52\u001b[0m \u001b[32m━━━━━━━━━━━━━━━━━━━━\u001b[0m\u001b[37m\u001b[0m \u001b[1m3s\u001b[0m 55ms/step - loss: 1.6405e-04\n",
      "Epoch 41/50\n",
      "\u001b[1m52/52\u001b[0m \u001b[32m━━━━━━━━━━━━━━━━━━━━\u001b[0m\u001b[37m\u001b[0m \u001b[1m3s\u001b[0m 55ms/step - loss: 1.5737e-04\n",
      "Epoch 42/50\n",
      "\u001b[1m52/52\u001b[0m \u001b[32m━━━━━━━━━━━━━━━━━━━━\u001b[0m\u001b[37m\u001b[0m \u001b[1m3s\u001b[0m 54ms/step - loss: 1.4570e-04\n",
      "Epoch 43/50\n",
      "\u001b[1m52/52\u001b[0m \u001b[32m━━━━━━━━━━━━━━━━━━━━\u001b[0m\u001b[37m\u001b[0m \u001b[1m3s\u001b[0m 56ms/step - loss: 1.4165e-04\n",
      "Epoch 44/50\n",
      "\u001b[1m52/52\u001b[0m \u001b[32m━━━━━━━━━━━━━━━━━━━━\u001b[0m\u001b[37m\u001b[0m \u001b[1m3s\u001b[0m 54ms/step - loss: 1.3692e-04\n",
      "Epoch 45/50\n",
      "\u001b[1m52/52\u001b[0m \u001b[32m━━━━━━━━━━━━━━━━━━━━\u001b[0m\u001b[37m\u001b[0m \u001b[1m3s\u001b[0m 55ms/step - loss: 1.2728e-04\n",
      "Epoch 46/50\n",
      "\u001b[1m52/52\u001b[0m \u001b[32m━━━━━━━━━━━━━━━━━━━━\u001b[0m\u001b[37m\u001b[0m \u001b[1m3s\u001b[0m 54ms/step - loss: 1.1608e-04\n",
      "Epoch 47/50\n",
      "\u001b[1m52/52\u001b[0m \u001b[32m━━━━━━━━━━━━━━━━━━━━\u001b[0m\u001b[37m\u001b[0m \u001b[1m3s\u001b[0m 53ms/step - loss: 1.4349e-04\n",
      "Epoch 48/50\n",
      "\u001b[1m52/52\u001b[0m \u001b[32m━━━━━━━━━━━━━━━━━━━━\u001b[0m\u001b[37m\u001b[0m \u001b[1m3s\u001b[0m 54ms/step - loss: 1.7781e-04\n",
      "Epoch 49/50\n",
      "\u001b[1m52/52\u001b[0m \u001b[32m━━━━━━━━━━━━━━━━━━━━\u001b[0m\u001b[37m\u001b[0m \u001b[1m3s\u001b[0m 53ms/step - loss: 1.4573e-04\n",
      "Epoch 50/50\n",
      "\u001b[1m52/52\u001b[0m \u001b[32m━━━━━━━━━━━━━━━━━━━━\u001b[0m\u001b[37m\u001b[0m \u001b[1m3s\u001b[0m 54ms/step - loss: 1.9510e-04\n"
     ]
    },
    {
     "data": {
      "text/plain": [
       "<keras.src.callbacks.history.History at 0x16c923220>"
      ]
     },
     "execution_count": 79,
     "metadata": {},
     "output_type": "execute_result"
    }
   ],
   "source": [
    "# Compile the model:\n",
    "# 'adam' is an optimizer that helps the model learn more efficiently.\n",
    "# 'mean_squared_error' is the loss function — it measures how far the model's predictions are from the actual values.\n",
    "model.compile(optimizer='adam', loss='mean_squared_error')\n",
    "\n",
    "# Train the model:\n",
    "# The model will look at the training data (x_train and y_train)\n",
    "# and try to learn the pattern by adjusting its internal weights.\n",
    "# This training process will repeat 50 times (epochs) to improve accuracy.\n",
    "model.fit(x_train, y_train, epochs=50)\n"
   ]
  },
  {
   "cell_type": "code",
   "execution_count": 80,
   "id": "7b1fc633-7da7-48b1-b91a-989b964bbfc2",
   "metadata": {},
   "outputs": [
    {
     "data": {
      "text/html": [
       "<pre style=\"white-space:pre;overflow-x:auto;line-height:normal;font-family:Menlo,'DejaVu Sans Mono',consolas,'Courier New',monospace\"><span style=\"font-weight: bold\">Model: \"sequential_5\"</span>\n",
       "</pre>\n"
      ],
      "text/plain": [
       "\u001b[1mModel: \"sequential_5\"\u001b[0m\n"
      ]
     },
     "metadata": {},
     "output_type": "display_data"
    },
    {
     "data": {
      "text/html": [
       "<pre style=\"white-space:pre;overflow-x:auto;line-height:normal;font-family:Menlo,'DejaVu Sans Mono',consolas,'Courier New',monospace\">┏━━━━━━━━━━━━━━━━━━━━━━━━━━━━━━━━━┳━━━━━━━━━━━━━━━━━━━━━━━━┳━━━━━━━━━━━━━━━┓\n",
       "┃<span style=\"font-weight: bold\"> Layer (type)                    </span>┃<span style=\"font-weight: bold\"> Output Shape           </span>┃<span style=\"font-weight: bold\">       Param # </span>┃\n",
       "┡━━━━━━━━━━━━━━━━━━━━━━━━━━━━━━━━━╇━━━━━━━━━━━━━━━━━━━━━━━━╇━━━━━━━━━━━━━━━┩\n",
       "│ lstm_5 (<span style=\"color: #0087ff; text-decoration-color: #0087ff\">LSTM</span>)                   │ (<span style=\"color: #00d7ff; text-decoration-color: #00d7ff\">None</span>, <span style=\"color: #00af00; text-decoration-color: #00af00\">100</span>, <span style=\"color: #00af00; text-decoration-color: #00af00\">128</span>)       │        <span style=\"color: #00af00; text-decoration-color: #00af00\">66,560</span> │\n",
       "├─────────────────────────────────┼────────────────────────┼───────────────┤\n",
       "│ lstm_6 (<span style=\"color: #0087ff; text-decoration-color: #0087ff\">LSTM</span>)                   │ (<span style=\"color: #00d7ff; text-decoration-color: #00d7ff\">None</span>, <span style=\"color: #00af00; text-decoration-color: #00af00\">64</span>)             │        <span style=\"color: #00af00; text-decoration-color: #00af00\">49,408</span> │\n",
       "├─────────────────────────────────┼────────────────────────┼───────────────┤\n",
       "│ dense_4 (<span style=\"color: #0087ff; text-decoration-color: #0087ff\">Dense</span>)                 │ (<span style=\"color: #00d7ff; text-decoration-color: #00d7ff\">None</span>, <span style=\"color: #00af00; text-decoration-color: #00af00\">25</span>)             │         <span style=\"color: #00af00; text-decoration-color: #00af00\">1,625</span> │\n",
       "├─────────────────────────────────┼────────────────────────┼───────────────┤\n",
       "│ dense_5 (<span style=\"color: #0087ff; text-decoration-color: #0087ff\">Dense</span>)                 │ (<span style=\"color: #00d7ff; text-decoration-color: #00d7ff\">None</span>, <span style=\"color: #00af00; text-decoration-color: #00af00\">1</span>)              │            <span style=\"color: #00af00; text-decoration-color: #00af00\">26</span> │\n",
       "└─────────────────────────────────┴────────────────────────┴───────────────┘\n",
       "</pre>\n"
      ],
      "text/plain": [
       "┏━━━━━━━━━━━━━━━━━━━━━━━━━━━━━━━━━┳━━━━━━━━━━━━━━━━━━━━━━━━┳━━━━━━━━━━━━━━━┓\n",
       "┃\u001b[1m \u001b[0m\u001b[1mLayer (type)                   \u001b[0m\u001b[1m \u001b[0m┃\u001b[1m \u001b[0m\u001b[1mOutput Shape          \u001b[0m\u001b[1m \u001b[0m┃\u001b[1m \u001b[0m\u001b[1m      Param #\u001b[0m\u001b[1m \u001b[0m┃\n",
       "┡━━━━━━━━━━━━━━━━━━━━━━━━━━━━━━━━━╇━━━━━━━━━━━━━━━━━━━━━━━━╇━━━━━━━━━━━━━━━┩\n",
       "│ lstm_5 (\u001b[38;5;33mLSTM\u001b[0m)                   │ (\u001b[38;5;45mNone\u001b[0m, \u001b[38;5;34m100\u001b[0m, \u001b[38;5;34m128\u001b[0m)       │        \u001b[38;5;34m66,560\u001b[0m │\n",
       "├─────────────────────────────────┼────────────────────────┼───────────────┤\n",
       "│ lstm_6 (\u001b[38;5;33mLSTM\u001b[0m)                   │ (\u001b[38;5;45mNone\u001b[0m, \u001b[38;5;34m64\u001b[0m)             │        \u001b[38;5;34m49,408\u001b[0m │\n",
       "├─────────────────────────────────┼────────────────────────┼───────────────┤\n",
       "│ dense_4 (\u001b[38;5;33mDense\u001b[0m)                 │ (\u001b[38;5;45mNone\u001b[0m, \u001b[38;5;34m25\u001b[0m)             │         \u001b[38;5;34m1,625\u001b[0m │\n",
       "├─────────────────────────────────┼────────────────────────┼───────────────┤\n",
       "│ dense_5 (\u001b[38;5;33mDense\u001b[0m)                 │ (\u001b[38;5;45mNone\u001b[0m, \u001b[38;5;34m1\u001b[0m)              │            \u001b[38;5;34m26\u001b[0m │\n",
       "└─────────────────────────────────┴────────────────────────┴───────────────┘\n"
      ]
     },
     "metadata": {},
     "output_type": "display_data"
    },
    {
     "data": {
      "text/html": [
       "<pre style=\"white-space:pre;overflow-x:auto;line-height:normal;font-family:Menlo,'DejaVu Sans Mono',consolas,'Courier New',monospace\"><span style=\"font-weight: bold\"> Total params: </span><span style=\"color: #00af00; text-decoration-color: #00af00\">352,859</span> (1.35 MB)\n",
       "</pre>\n"
      ],
      "text/plain": [
       "\u001b[1m Total params: \u001b[0m\u001b[38;5;34m352,859\u001b[0m (1.35 MB)\n"
      ]
     },
     "metadata": {},
     "output_type": "display_data"
    },
    {
     "data": {
      "text/html": [
       "<pre style=\"white-space:pre;overflow-x:auto;line-height:normal;font-family:Menlo,'DejaVu Sans Mono',consolas,'Courier New',monospace\"><span style=\"font-weight: bold\"> Trainable params: </span><span style=\"color: #00af00; text-decoration-color: #00af00\">117,619</span> (459.45 KB)\n",
       "</pre>\n"
      ],
      "text/plain": [
       "\u001b[1m Trainable params: \u001b[0m\u001b[38;5;34m117,619\u001b[0m (459.45 KB)\n"
      ]
     },
     "metadata": {},
     "output_type": "display_data"
    },
    {
     "data": {
      "text/html": [
       "<pre style=\"white-space:pre;overflow-x:auto;line-height:normal;font-family:Menlo,'DejaVu Sans Mono',consolas,'Courier New',monospace\"><span style=\"font-weight: bold\"> Non-trainable params: </span><span style=\"color: #00af00; text-decoration-color: #00af00\">0</span> (0.00 B)\n",
       "</pre>\n"
      ],
      "text/plain": [
       "\u001b[1m Non-trainable params: \u001b[0m\u001b[38;5;34m0\u001b[0m (0.00 B)\n"
      ]
     },
     "metadata": {},
     "output_type": "display_data"
    },
    {
     "data": {
      "text/html": [
       "<pre style=\"white-space:pre;overflow-x:auto;line-height:normal;font-family:Menlo,'DejaVu Sans Mono',consolas,'Courier New',monospace\"><span style=\"font-weight: bold\"> Optimizer params: </span><span style=\"color: #00af00; text-decoration-color: #00af00\">235,240</span> (918.91 KB)\n",
       "</pre>\n"
      ],
      "text/plain": [
       "\u001b[1m Optimizer params: \u001b[0m\u001b[38;5;34m235,240\u001b[0m (918.91 KB)\n"
      ]
     },
     "metadata": {},
     "output_type": "display_data"
    }
   ],
   "source": [
    "model.summary()"
   ]
  },
  {
   "cell_type": "code",
   "execution_count": 81,
   "id": "fb788048-1066-446f-9c6a-70ee6605f059",
   "metadata": {},
   "outputs": [],
   "source": [
    "# Save the trained model\n",
    "model.save('stock_prediction_model.keras')"
   ]
  },
  {
   "cell_type": "markdown",
   "id": "9069ce52-e582-41d1-964c-b5ffb2178a92",
   "metadata": {},
   "source": [
    "# 8. Preparing Test Data"
   ]
  },
  {
   "cell_type": "code",
   "execution_count": 82,
   "id": "fc893e9d-4fd1-441f-84df-93c8c11c8370",
   "metadata": {},
   "outputs": [
    {
     "data": {
      "text/html": [
       "<div>\n",
       "<style scoped>\n",
       "    .dataframe tbody tr th:only-of-type {\n",
       "        vertical-align: middle;\n",
       "    }\n",
       "\n",
       "    .dataframe tbody tr th {\n",
       "        vertical-align: top;\n",
       "    }\n",
       "\n",
       "    .dataframe thead th {\n",
       "        text-align: right;\n",
       "    }\n",
       "</style>\n",
       "<table border=\"1\" class=\"dataframe\">\n",
       "  <thead>\n",
       "    <tr style=\"text-align: right;\">\n",
       "      <th>Ticker</th>\n",
       "      <th>AAPL</th>\n",
       "    </tr>\n",
       "  </thead>\n",
       "  <tbody>\n",
       "    <tr>\n",
       "      <th>1761</th>\n",
       "      <td>162.654404</td>\n",
       "    </tr>\n",
       "    <tr>\n",
       "      <th>1762</th>\n",
       "      <td>162.437943</td>\n",
       "    </tr>\n",
       "    <tr>\n",
       "      <th>1763</th>\n",
       "      <td>164.730774</td>\n",
       "    </tr>\n",
       "    <tr>\n",
       "      <th>1764</th>\n",
       "      <td>164.563477</td>\n",
       "    </tr>\n",
       "    <tr>\n",
       "      <th>1765</th>\n",
       "      <td>163.766403</td>\n",
       "    </tr>\n",
       "    <tr>\n",
       "      <th>...</th>\n",
       "      <td>...</td>\n",
       "    </tr>\n",
       "    <tr>\n",
       "      <th>2511</th>\n",
       "      <td>198.149994</td>\n",
       "    </tr>\n",
       "    <tr>\n",
       "      <th>2512</th>\n",
       "      <td>202.520004</td>\n",
       "    </tr>\n",
       "    <tr>\n",
       "      <th>2513</th>\n",
       "      <td>202.139999</td>\n",
       "    </tr>\n",
       "    <tr>\n",
       "      <th>2514</th>\n",
       "      <td>194.270004</td>\n",
       "    </tr>\n",
       "    <tr>\n",
       "      <th>2515</th>\n",
       "      <td>196.979996</td>\n",
       "    </tr>\n",
       "  </tbody>\n",
       "</table>\n",
       "<p>755 rows × 1 columns</p>\n",
       "</div>"
      ],
      "text/plain": [
       "Ticker        AAPL\n",
       "1761    162.654404\n",
       "1762    162.437943\n",
       "1763    164.730774\n",
       "1764    164.563477\n",
       "1765    163.766403\n",
       "...            ...\n",
       "2511    198.149994\n",
       "2512    202.520004\n",
       "2513    202.139999\n",
       "2514    194.270004\n",
       "2515    196.979996\n",
       "\n",
       "[755 rows x 1 columns]"
      ]
     },
     "execution_count": 82,
     "metadata": {},
     "output_type": "execute_result"
    }
   ],
   "source": [
    "data_testing"
   ]
  },
  {
   "cell_type": "code",
   "execution_count": 83,
   "id": "af5ae7b4-07b2-47c2-8025-c5a1db21e4a6",
   "metadata": {},
   "outputs": [
    {
     "data": {
      "text/html": [
       "<div>\n",
       "<style scoped>\n",
       "    .dataframe tbody tr th:only-of-type {\n",
       "        vertical-align: middle;\n",
       "    }\n",
       "\n",
       "    .dataframe tbody tr th {\n",
       "        vertical-align: top;\n",
       "    }\n",
       "\n",
       "    .dataframe thead th {\n",
       "        text-align: right;\n",
       "    }\n",
       "</style>\n",
       "<table border=\"1\" class=\"dataframe\">\n",
       "  <thead>\n",
       "    <tr style=\"text-align: right;\">\n",
       "      <th>Ticker</th>\n",
       "      <th>AAPL</th>\n",
       "    </tr>\n",
       "  </thead>\n",
       "  <tbody>\n",
       "    <tr>\n",
       "      <th>0</th>\n",
       "      <td>28.496607</td>\n",
       "    </tr>\n",
       "    <tr>\n",
       "      <th>1</th>\n",
       "      <td>28.342524</td>\n",
       "    </tr>\n",
       "    <tr>\n",
       "      <th>2</th>\n",
       "      <td>28.724401</td>\n",
       "    </tr>\n",
       "    <tr>\n",
       "      <th>3</th>\n",
       "      <td>28.958893</td>\n",
       "    </tr>\n",
       "    <tr>\n",
       "      <th>4</th>\n",
       "      <td>29.095135</td>\n",
       "    </tr>\n",
       "    <tr>\n",
       "      <th>...</th>\n",
       "      <td>...</td>\n",
       "    </tr>\n",
       "    <tr>\n",
       "      <th>1756</th>\n",
       "      <td>169.395187</td>\n",
       "    </tr>\n",
       "    <tr>\n",
       "      <th>1757</th>\n",
       "      <td>167.377869</td>\n",
       "    </tr>\n",
       "    <tr>\n",
       "      <th>1758</th>\n",
       "      <td>163.107101</td>\n",
       "    </tr>\n",
       "    <tr>\n",
       "      <th>1759</th>\n",
       "      <td>164.986633</td>\n",
       "    </tr>\n",
       "    <tr>\n",
       "      <th>1760</th>\n",
       "      <td>167.682938</td>\n",
       "    </tr>\n",
       "  </tbody>\n",
       "</table>\n",
       "<p>1761 rows × 1 columns</p>\n",
       "</div>"
      ],
      "text/plain": [
       "Ticker        AAPL\n",
       "0        28.496607\n",
       "1        28.342524\n",
       "2        28.724401\n",
       "3        28.958893\n",
       "4        29.095135\n",
       "...            ...\n",
       "1756    169.395187\n",
       "1757    167.377869\n",
       "1758    163.107101\n",
       "1759    164.986633\n",
       "1760    167.682938\n",
       "\n",
       "[1761 rows x 1 columns]"
      ]
     },
     "execution_count": 83,
     "metadata": {},
     "output_type": "execute_result"
    }
   ],
   "source": [
    "data_training"
   ]
  },
  {
   "cell_type": "code",
   "execution_count": 84,
   "id": "dafe126c-341e-4f7f-8547-f69723f1e537",
   "metadata": {},
   "outputs": [],
   "source": [
    "past_100_days = data_training.tail(100)"
   ]
  },
  {
   "cell_type": "code",
   "execution_count": 85,
   "id": "38b649e3-cd86-4838-a7da-a8c5e33c2fab",
   "metadata": {},
   "outputs": [
    {
     "data": {
      "text/html": [
       "<div>\n",
       "<style scoped>\n",
       "    .dataframe tbody tr th:only-of-type {\n",
       "        vertical-align: middle;\n",
       "    }\n",
       "\n",
       "    .dataframe tbody tr th {\n",
       "        vertical-align: top;\n",
       "    }\n",
       "\n",
       "    .dataframe thead th {\n",
       "        text-align: right;\n",
       "    }\n",
       "</style>\n",
       "<table border=\"1\" class=\"dataframe\">\n",
       "  <thead>\n",
       "    <tr style=\"text-align: right;\">\n",
       "      <th>Ticker</th>\n",
       "      <th>AAPL</th>\n",
       "    </tr>\n",
       "  </thead>\n",
       "  <tbody>\n",
       "    <tr>\n",
       "      <th>1661</th>\n",
       "      <td>157.788971</td>\n",
       "    </tr>\n",
       "    <tr>\n",
       "      <th>1662</th>\n",
       "      <td>158.250870</td>\n",
       "    </tr>\n",
       "    <tr>\n",
       "      <th>1663</th>\n",
       "      <td>158.634186</td>\n",
       "    </tr>\n",
       "    <tr>\n",
       "      <th>1664</th>\n",
       "      <td>159.155060</td>\n",
       "    </tr>\n",
       "    <tr>\n",
       "      <th>1665</th>\n",
       "      <td>154.113266</td>\n",
       "    </tr>\n",
       "    <tr>\n",
       "      <th>...</th>\n",
       "      <td>...</td>\n",
       "    </tr>\n",
       "    <tr>\n",
       "      <th>1756</th>\n",
       "      <td>169.395187</td>\n",
       "    </tr>\n",
       "    <tr>\n",
       "      <th>1757</th>\n",
       "      <td>167.377869</td>\n",
       "    </tr>\n",
       "    <tr>\n",
       "      <th>1758</th>\n",
       "      <td>163.107101</td>\n",
       "    </tr>\n",
       "    <tr>\n",
       "      <th>1759</th>\n",
       "      <td>164.986633</td>\n",
       "    </tr>\n",
       "    <tr>\n",
       "      <th>1760</th>\n",
       "      <td>167.682938</td>\n",
       "    </tr>\n",
       "  </tbody>\n",
       "</table>\n",
       "<p>100 rows × 1 columns</p>\n",
       "</div>"
      ],
      "text/plain": [
       "Ticker        AAPL\n",
       "1661    157.788971\n",
       "1662    158.250870\n",
       "1663    158.634186\n",
       "1664    159.155060\n",
       "1665    154.113266\n",
       "...            ...\n",
       "1756    169.395187\n",
       "1757    167.377869\n",
       "1758    163.107101\n",
       "1759    164.986633\n",
       "1760    167.682938\n",
       "\n",
       "[100 rows x 1 columns]"
      ]
     },
     "execution_count": 85,
     "metadata": {},
     "output_type": "execute_result"
    }
   ],
   "source": [
    "past_100_days"
   ]
  },
  {
   "cell_type": "code",
   "execution_count": 86,
   "id": "5f1ee15f-708f-4409-96c7-42c37838f1df",
   "metadata": {},
   "outputs": [],
   "source": [
    "final_df = pd.concat([past_100_days, data_testing], ignore_index=True)"
   ]
  },
  {
   "cell_type": "code",
   "execution_count": 87,
   "id": "2813a8ff-728c-41c1-94f3-3cf89c361569",
   "metadata": {},
   "outputs": [
    {
     "data": {
      "text/html": [
       "<div>\n",
       "<style scoped>\n",
       "    .dataframe tbody tr th:only-of-type {\n",
       "        vertical-align: middle;\n",
       "    }\n",
       "\n",
       "    .dataframe tbody tr th {\n",
       "        vertical-align: top;\n",
       "    }\n",
       "\n",
       "    .dataframe thead th {\n",
       "        text-align: right;\n",
       "    }\n",
       "</style>\n",
       "<table border=\"1\" class=\"dataframe\">\n",
       "  <thead>\n",
       "    <tr style=\"text-align: right;\">\n",
       "      <th>Ticker</th>\n",
       "      <th>AAPL</th>\n",
       "    </tr>\n",
       "  </thead>\n",
       "  <tbody>\n",
       "    <tr>\n",
       "      <th>0</th>\n",
       "      <td>157.788971</td>\n",
       "    </tr>\n",
       "    <tr>\n",
       "      <th>1</th>\n",
       "      <td>158.250870</td>\n",
       "    </tr>\n",
       "    <tr>\n",
       "      <th>2</th>\n",
       "      <td>158.634186</td>\n",
       "    </tr>\n",
       "    <tr>\n",
       "      <th>3</th>\n",
       "      <td>159.155060</td>\n",
       "    </tr>\n",
       "    <tr>\n",
       "      <th>4</th>\n",
       "      <td>154.113266</td>\n",
       "    </tr>\n",
       "    <tr>\n",
       "      <th>...</th>\n",
       "      <td>...</td>\n",
       "    </tr>\n",
       "    <tr>\n",
       "      <th>850</th>\n",
       "      <td>198.149994</td>\n",
       "    </tr>\n",
       "    <tr>\n",
       "      <th>851</th>\n",
       "      <td>202.520004</td>\n",
       "    </tr>\n",
       "    <tr>\n",
       "      <th>852</th>\n",
       "      <td>202.139999</td>\n",
       "    </tr>\n",
       "    <tr>\n",
       "      <th>853</th>\n",
       "      <td>194.270004</td>\n",
       "    </tr>\n",
       "    <tr>\n",
       "      <th>854</th>\n",
       "      <td>196.979996</td>\n",
       "    </tr>\n",
       "  </tbody>\n",
       "</table>\n",
       "<p>855 rows × 1 columns</p>\n",
       "</div>"
      ],
      "text/plain": [
       "Ticker        AAPL\n",
       "0       157.788971\n",
       "1       158.250870\n",
       "2       158.634186\n",
       "3       159.155060\n",
       "4       154.113266\n",
       "..             ...\n",
       "850     198.149994\n",
       "851     202.520004\n",
       "852     202.139999\n",
       "853     194.270004\n",
       "854     196.979996\n",
       "\n",
       "[855 rows x 1 columns]"
      ]
     },
     "execution_count": 87,
     "metadata": {},
     "output_type": "execute_result"
    }
   ],
   "source": [
    "final_df"
   ]
  },
  {
   "cell_type": "code",
   "execution_count": 93,
   "id": "f7781dd2-800a-4c0e-aa35-d7849795ad02",
   "metadata": {},
   "outputs": [],
   "source": [
    "# scaling down the data between 0 to 1\n",
    "input_data = scaler.fit_transform(final_df)\n",
    "# input_data"
   ]
  },
  {
   "cell_type": "code",
   "execution_count": 124,
   "id": "4dd9acec-9737-4a07-b7be-f8234be09a7a",
   "metadata": {},
   "outputs": [],
   "source": [
    "# create sequence \n",
    "x_test = []\n",
    "y_test = []\n",
    "\n",
    "for i in range(100, input_data.shape[0]):\n",
    "    x_test.append(input_data[i-100: i])\n",
    "    y_test.append(input_data[i,0])\n",
    "\n",
    "x_test, y_test = np.array(x_test), np.array(y_test)"
   ]
  },
  {
   "cell_type": "code",
   "execution_count": 126,
   "id": "4b27769c-02e2-4b39-beb5-6552ee297455",
   "metadata": {},
   "outputs": [
    {
     "data": {
      "text/plain": [
       "0.28909074764304477"
      ]
     },
     "execution_count": 126,
     "metadata": {},
     "output_type": "execute_result"
    }
   ],
   "source": [
    "x_test\n"
   ]
  },
  {
   "cell_type": "markdown",
   "id": "76f20d39-7874-4053-b01d-16dc47f66608",
   "metadata": {},
   "source": [
    "# 9. Making Predictions"
   ]
  },
  {
   "cell_type": "code",
   "execution_count": 127,
   "id": "09fd1df4-98ee-4419-bd94-ecbb03af027a",
   "metadata": {},
   "outputs": [
    {
     "name": "stdout",
     "output_type": "stream",
     "text": [
      "\u001b[1m24/24\u001b[0m \u001b[32m━━━━━━━━━━━━━━━━━━━━\u001b[0m\u001b[37m\u001b[0m \u001b[1m0s\u001b[0m 20ms/step\n"
     ]
    }
   ],
   "source": [
    "y_predicted = model.predict(x_test)"
   ]
  },
  {
   "cell_type": "code",
   "execution_count": 136,
   "id": "b9ad0954-39b4-4c44-b57c-1dc56a117af4",
   "metadata": {},
   "outputs": [],
   "source": [
    "# y_predicted"
   ]
  },
  {
   "cell_type": "code",
   "execution_count": 129,
   "id": "2ae75b98-4815-4835-92ea-ae3e2fd5088b",
   "metadata": {},
   "outputs": [],
   "source": [
    "# reverse to back original value from 0 to 1\n",
    "y_predicted = scaler.inverse_transform(y_predicted.reshape(-1,1)).flatten()\n",
    "y_test = scaler.inverse_transform(y_test.reshape(-1,1)).flatten()"
   ]
  },
  {
   "cell_type": "code",
   "execution_count": 132,
   "id": "b34104b4-262c-4d8e-8b80-3a8ba13394fd",
   "metadata": {},
   "outputs": [
    {
     "data": {
      "text/plain": [
       "array([167.39314, 166.20197, 164.91953, 165.23329, 165.66017, 165.52765,\n",
       "       163.15869, 161.83492, 158.6143 , 156.3423 , 158.33255, 157.95801,\n",
       "       157.3652 , 157.60112, 160.79037, 159.23782, 157.51685, 154.20442,\n",
       "       152.95705, 149.47961, 145.46223, 144.62645, 144.35179, 145.77382,\n",
       "       143.99188, 140.77191, 138.39862, 138.96436, 139.2229 , 139.37123,\n",
       "       140.5834 , 143.83449, 146.23843, 147.40498, 148.68562, 147.13007,\n",
       "       145.69594, 145.82802, 146.07135, 144.26971, 140.6574 , 136.18059,\n",
       "       133.4107 , 132.88919, 131.51215, 130.80406, 131.87146, 133.01872,\n",
       "       134.77567, 137.2993 , 139.19958, 138.69328, 138.21762, 137.00276,\n",
       "       136.75752, 137.80933, 139.40335, 141.88644, 144.03325, 144.46088,\n",
       "       144.58101, 144.39642, 145.32297, 146.8765 , 146.81622, 147.88441,\n",
       "       149.65831, 151.88489, 152.82054, 152.53221, 151.45532, 152.74571,\n",
       "       154.37509, 157.6807 , 159.61734, 159.67628, 161.92722, 163.5443 ,\n",
       "       164.15918, 164.00038, 163.73875, 165.60101, 166.79085, 169.04247,\n",
       "       171.02202, 171.90321, 172.82062, 173.05486, 171.69421, 168.72893,\n",
       "       166.74957, 166.13167, 167.38278, 165.51968, 162.86668, 160.13841,\n",
       "       157.8854 , 157.06398, 156.0314 , 154.87035, 154.75685, 154.3041 ,\n",
       "       155.16064, 158.58055, 157.03992, 155.51122, 153.31133, 151.17809,\n",
       "       151.49672, 153.35213, 153.59045, 152.92957, 151.34164, 150.29082,\n",
       "       150.18959, 149.6165 , 146.28903, 142.0353 , 140.6911 , 141.9195 ,\n",
       "       143.60764, 144.49239, 142.82002, 141.14713, 139.5243 , 138.25818,\n",
       "       139.16478, 138.77696, 139.5849 , 140.94485, 142.02858, 142.45251,\n",
       "       143.95187, 146.02824, 148.62132, 149.14607, 147.05676, 149.39507,\n",
       "       151.05716, 150.81123, 147.91771, 143.20999, 139.85873, 138.30606,\n",
       "       138.02644, 136.6605 , 139.61517, 144.00153, 146.77107, 148.6484 ,\n",
       "       148.93271, 149.32182, 149.73727, 148.64273, 148.46123, 148.9671 ,\n",
       "       148.31749, 146.15015, 143.33481, 144.01474, 145.53064, 146.58054,\n",
       "       146.65804, 144.98958, 142.73059, 141.76434, 141.317  , 142.04451,\n",
       "       143.22624, 143.27524, 140.5251 , 137.3378 , 134.44588, 132.61002,\n",
       "       132.70287, 132.3366 , 131.84642, 130.89732, 128.87154, 128.21336,\n",
       "       128.2785 , 127.09171, 126.23941, 125.35683, 126.06167, 127.27281,\n",
       "       128.47536, 130.17168, 131.48007, 132.66539, 133.80002, 134.28218,\n",
       "       134.40456, 135.24773, 137.15674, 139.27081, 140.47603, 141.7389 ,\n",
       "       143.28253, 143.22272, 143.20558, 143.62738, 146.0938 , 149.72023,\n",
       "       151.169  , 152.61453, 152.2777 , 151.14648, 150.41295, 151.25967,\n",
       "       151.94785, 153.25122, 153.52165, 152.9345 , 150.68425, 149.12315,\n",
       "       148.5596 , 147.44228, 147.12752, 146.95964, 146.09697, 145.6109 ,\n",
       "       147.37848, 150.23166, 151.382  , 152.08762, 151.37993, 149.69563,\n",
       "       149.2147 , 150.1014 , 151.20337, 153.14851, 154.18983, 155.57956,\n",
       "       157.26617, 157.65459, 157.99867, 158.73486, 158.36917, 157.62585,\n",
       "       158.49768, 160.12518, 162.42462, 164.47665, 165.26947, 164.4686 ,\n",
       "       164.03204, 162.63911, 161.13158, 160.00409, 161.98691, 163.73897,\n",
       "       164.71242, 165.61655, 166.58545, 166.60582, 165.58136, 164.91025,\n",
       "       163.89793, 163.30214, 165.27454, 167.6046 , 168.93828, 168.87648,\n",
       "       167.93619, 166.40189, 169.17549, 171.63872, 172.04561, 172.64734,\n",
       "       173.03784, 172.69492, 172.10344, 171.75797, 171.97392, 173.42894,\n",
       "       174.53777, 174.55316, 172.97147, 171.9501 , 172.1158 , 173.71164,\n",
       "       175.8294 , 177.00215, 178.81158, 180.22467, 180.0406 , 179.35645,\n",
       "       178.15688, 178.92944, 179.96834, 182.1013 , 183.12758, 183.72455,\n",
       "       184.9894 , 185.08421, 184.9187 , 184.1966 , 185.42215, 186.23051,\n",
       "       185.78711, 186.87775, 188.33597, 189.27364, 192.0406 , 192.7374 ,\n",
       "       191.95024, 191.5288 , 190.7514 , 189.21559, 188.16727, 188.81337,\n",
       "       189.93922, 190.6826 , 192.81334, 193.83237, 194.7886 , 193.95969,\n",
       "       192.51738, 192.21342, 192.81924, 193.82549, 193.65129, 194.88011,\n",
       "       196.0199 , 195.99664, 193.98096, 191.92603, 185.86987, 180.92139,\n",
       "       179.46228, 178.71661, 178.52963, 178.63678, 179.6046 , 179.145  ,\n",
       "       178.07173, 175.97974, 174.91219, 175.24185, 176.42735, 179.23834,\n",
       "       178.50093, 178.50111, 179.39993, 182.09023, 185.67699, 187.6691 ,\n",
       "       189.06255, 189.60127, 185.81209, 180.38353, 178.01155, 178.23546,\n",
       "       177.45706, 175.95534, 175.90002, 175.79797, 177.24481, 178.82256,\n",
       "       177.70885, 175.69351, 174.85062, 175.29948, 173.7282 , 171.78755,\n",
       "       170.86707, 170.90125, 172.43346, 172.91731, 173.56506, 174.51285,\n",
       "       176.32596, 178.15735, 178.70555, 179.3671 , 180.13217, 179.51794,\n",
       "       178.8694 , 177.74463, 176.47719, 175.70021, 174.17102, 173.38664,\n",
       "       173.40968, 172.4589 , 169.71342, 168.5644 , 169.28918, 170.344  ,\n",
       "       172.56094, 175.75877, 177.08733, 178.55293, 180.53006, 182.08183,\n",
       "       182.41162, 184.55255, 185.04826, 186.41739, 187.55338, 189.0107 ,\n",
       "       189.74573, 190.94756, 191.11823, 191.39134, 190.77518, 190.26357,\n",
       "       190.43736, 190.10658, 190.24005, 191.14062, 190.67177, 192.47224,\n",
       "       193.03926, 194.15633, 195.52176, 194.64032, 194.69034, 196.74637,\n",
       "       198.10597, 198.2483 , 197.06857, 196.94194, 195.85529, 195.20587,\n",
       "       194.43787, 193.83943, 193.7247 , 194.04991, 193.68283, 189.45409,\n",
       "       186.14282, 183.54498, 182.1727 , 184.20888, 185.68346, 186.85944,\n",
       "       186.92609, 186.79234, 185.3135 , 183.78317, 186.28937, 189.9235 ,\n",
       "       193.18153, 195.2497 , 195.39845, 194.76956, 193.266  , 192.08322,\n",
       "       189.60657, 186.38484, 186.3246 , 186.4484 , 187.6819 , 189.40048,\n",
       "       190.31407, 189.86647, 189.71458, 188.64632, 186.77104, 185.274  ,\n",
       "       184.53789, 183.56514, 182.73099, 182.82202, 184.18698, 184.09473,\n",
       "       183.00365, 183.0267 , 182.56612, 181.8868 , 180.9303 , 178.01555,\n",
       "       173.69879, 170.85767, 169.71616, 170.41339, 172.24673, 173.72627,\n",
       "       173.31529, 173.5207 , 173.45587, 173.85023, 175.30246, 177.58154,\n",
       "       175.11401, 173.32782, 171.82364, 170.61322, 171.92244, 172.3056 ,\n",
       "       171.64006, 170.47832, 170.14954, 169.74306, 169.89272, 169.53757,\n",
       "       169.83124, 169.18834, 172.20143, 175.36362, 175.04167, 172.35562,\n",
       "       169.73196, 167.92839, 166.2516 , 165.89075, 166.57089, 168.25386,\n",
       "       169.83551, 170.33926, 172.35878, 172.09163, 170.86526, 171.8047 ,\n",
       "       178.02286, 181.57993, 183.06671, 183.35896, 184.11008, 183.80968,\n",
       "       185.24759, 186.95253, 189.14569, 190.34561, 190.70958, 191.35666,\n",
       "       192.43985, 192.1778 , 189.52986, 189.71498, 190.37297, 191.02003,\n",
       "       191.9199 , 192.91595, 194.37102, 195.22964, 196.3154 , 195.94212,\n",
       "       196.88354, 195.27994, 202.46117, 210.75015, 215.03564, 214.60597,\n",
       "       215.96422, 215.0541 , 211.4214 , 208.43146, 208.08643, 209.24902,\n",
       "       212.8257 , 215.22841, 213.68626, 216.27182, 220.0005 , 222.2786 ,\n",
       "       225.8507 , 228.09062, 229.06815, 231.98312, 229.48837, 229.99277,\n",
       "       233.29091, 235.17596, 231.57816, 226.55858, 224.9945 , 224.91946,\n",
       "       226.03891, 222.36029, 219.81445, 219.3863 , 219.75201, 220.37721,\n",
       "       222.73647, 221.26292, 221.03476, 214.07852, 209.37508, 209.70871,\n",
       "       213.01302, 216.77899, 219.25047, 222.19601, 223.3579 , 225.2145 ,\n",
       "       226.64198, 226.84145, 227.0971 , 227.1397 , 225.95041, 227.07152,\n",
       "       228.119  , 229.14153, 228.4653 , 230.25264, 230.61504, 226.2854 ,\n",
       "       222.95178, 223.0724 , 222.6939 , 222.69582, 222.25854, 223.7272 ,\n",
       "       224.525  , 224.44325, 220.07129, 218.2195 , 220.51   , 227.4346 ,\n",
       "       230.12231, 229.08594, 228.54428, 227.60323, 228.02184, 228.60954,\n",
       "       232.47086, 229.59515, 228.16615, 227.14047, 227.73071, 224.78764,\n",
       "       226.17714, 229.81253, 231.01933, 229.96497, 231.69823, 234.26823,\n",
       "       233.72185, 233.30406, 235.10306, 237.00526, 237.20549, 233.48978,\n",
       "       231.74844, 232.1446 , 234.09041, 235.20581, 232.98741, 228.92741,\n",
       "       225.35597, 223.75337, 224.60463, 224.86388, 228.09874, 229.3451 ,\n",
       "       227.48245, 226.23201, 226.38087, 228.70863, 227.62764, 228.83775,\n",
       "       229.69623, 230.42001, 230.28702, 231.02986, 233.43443, 235.93282,\n",
       "       236.60248, 238.14423, 240.22429, 243.01884, 244.14417, 244.22153,\n",
       "       243.93243, 246.6204 , 248.54292, 248.12204, 248.7856 , 249.22911,\n",
       "       251.47246, 254.0828 , 250.86842, 250.59084, 254.27635, 256.35278,\n",
       "       258.8585 , 260.0545 , 257.57654, 253.9947 , 251.74088, 246.69356,\n",
       "       245.0134 , 246.36809, 245.27058, 245.09843, 240.90224, 237.44012,\n",
       "       235.69707, 238.64801, 233.44203, 232.0267 , 226.9396 , 225.73347,\n",
       "       225.78395, 225.46655, 230.07574, 237.91153, 241.48819, 240.3954 ,\n",
       "       237.88191, 231.15451, 232.01466, 233.28848, 234.59094, 231.2912 ,\n",
       "       229.9244 , 233.1896 , 237.82681, 242.65596, 246.08444, 246.50134,\n",
       "       246.20435, 246.54095, 246.5136 , 247.68463, 248.24753, 243.64343,\n",
       "       239.72495, 242.13628, 241.08054, 239.03802, 238.20935, 237.82684,\n",
       "       240.39304, 233.344  , 225.40675, 220.22867, 214.24164, 214.82715,\n",
       "       216.46909, 216.50092, 217.8275 , 217.55232, 219.67307, 222.179  ,\n",
       "       224.92084, 224.23616, 224.84456, 221.17154, 222.1668 , 223.998  ,\n",
       "       225.38821, 212.13144, 196.5125 , 186.72867, 178.89122, 190.10878,\n",
       "       194.64302, 200.09373, 204.88101, 206.03061, 200.46626],\n",
       "      dtype=float32)"
      ]
     },
     "execution_count": 132,
     "metadata": {},
     "output_type": "execute_result"
    }
   ],
   "source": [
    "y_predicted"
   ]
  },
  {
   "cell_type": "code",
   "execution_count": 133,
   "id": "5d9ca5c2-5ddb-489b-8370-445ba6745a79",
   "metadata": {},
   "outputs": [
    {
     "data": {
      "text/plain": [
       "<matplotlib.legend.Legend at 0x16bc9e2c0>"
      ]
     },
     "execution_count": 133,
     "metadata": {},
     "output_type": "execute_result"
    },
    {
     "data": {
      "image/png": "[encoded data removed]",
      "text/plain": [
       "<Figure size 1200x600 with 1 Axes>"
      ]
     },
     "metadata": {},
     "output_type": "display_data"
    }
   ],
   "source": [
    "plt.figure(figsize=(12,6))\n",
    "plt.plot(y_test, 'b', label='Original Price')\n",
    "plt.plot(y_predicted, 'r', label='Predicted Price')\n",
    "plt.xlabel('Days')\n",
    "plt.ylabel('Price')\n",
    "plt.legend()"
   ]
  },
  {
   "cell_type": "code",
   "execution_count": 135,
   "id": "dccdbc54-9fd8-45b8-9c67-d0b55b78f30f",
   "metadata": {},
   "outputs": [
    {
     "data": {
      "text/plain": [
       "(140.0, 220.0)"
      ]
     },
     "execution_count": 135,
     "metadata": {},
     "output_type": "execute_result"
    },
    {
     "data": {
      "image/png": "[encoded data removed]",
      "text/plain": [
       "<Figure size 1200x600 with 1 Axes>"
      ]
     },
     "metadata": {},
     "output_type": "display_data"
    }
   ],
   "source": [
    "plt.figure(figsize=(12,6))\n",
    "plt.plot(y_test, 'b', label='Original Price')\n",
    "plt.plot(y_predicted, 'r', label='Predicted Price')\n",
    "plt.xlabel('Days')\n",
    "plt.ylabel('Price')\n",
    "plt.legend()\n",
    "# zoom some part of graph to check offset\n",
    "plt.xlim(450,750)\n",
    "plt.ylim(140,220)"
   ]
  },
  {
   "cell_type": "markdown",
   "id": "cea279f4-0901-401b-b26e-ede9ba3f50e8",
   "metadata": {},
   "source": [
    "# 10. Model Evaluation"
   ]
  },
  {
   "cell_type": "code",
   "execution_count": 143,
   "id": "3b99c09c-6310-41d4-939e-b02c7ab26299",
   "metadata": {},
   "outputs": [],
   "source": [
    "from sklearn.metrics import mean_squared_error, r2_score"
   ]
  },
  {
   "cell_type": "code",
   "execution_count": 144,
   "id": "c1fbb508-fabd-49fc-b2d5-e854323a59ad",
   "metadata": {},
   "outputs": [
    {
     "name": "stdout",
     "output_type": "stream",
     "text": [
      "Mean Squared Error (MSE): 15.372621769723578\n"
     ]
    }
   ],
   "source": [
    "# Mean Squared Error (MSE)\n",
    "# This measures the average of the squares of the prediction errors.\n",
    "# In simple terms, it shows how far off the model's predictions are from the actual values.\n",
    "# A lower MSE means better performance.\n",
    "mse = mean_squared_error(y_test, y_predicted)\n",
    "print(f\"Mean Squared Error (MSE): {mse}\")\n"
   ]
  },
  {
   "cell_type": "code",
   "execution_count": 145,
   "id": "e7080722-60d7-4d99-89e8-94b9eb22e76b",
   "metadata": {},
   "outputs": [
    {
     "name": "stdout",
     "output_type": "stream",
     "text": [
      "Root Mean Squared Error (RMSE): 3.920793512762892\n"
     ]
    }
   ],
   "source": [
    "# Root Mean Squared Error (RMSE):\n",
    "# This is the square root of the Mean Squared Error (MSE).\n",
    "# It gives the error in the same unit as the original data (e.g., price), making it easier to understand.\n",
    "# Like MSE, a lower RMSE means better model accuracy.\n",
    "rmse = np.sqrt(mse)\n",
    "print(f\"Root Mean Squared Error (RMSE): {rmse}\")\n"
   ]
  },
  {
   "cell_type": "code",
   "execution_count": 142,
   "id": "244e7ea0-67ef-418f-bc84-cb7c48a6b37f",
   "metadata": {},
   "outputs": [
    {
     "name": "stdout",
     "output_type": "stream",
     "text": [
      "R-Squared: 0.9858023962098093\n"
     ]
    }
   ],
   "source": [
    "# R-Squared Score:\n",
    "# This metric shows how well the model's predictions match the actual values.\n",
    "# The score ranges from 0 to 1 — the closer it is to 1, the better the model is at predicting accurately.\n",
    "r2 = r2_score(y_test, y_predicted)\n",
    "print(f\"R-Squared: {r2}\")\n"
   ]
  },
  {
   "cell_type": "code",
   "execution_count": null,
   "id": "7e85d7a2-e802-4e8f-8c0a-16a55cc718d6",
   "metadata": {},
   "outputs": [],
   "source": []
  }
 ],
 "metadata": {
  "kernelspec": {
   "display_name": "Python 3 (ipykernel)",
   "language": "python",
   "name": "python3"
  },
  "language_info": {
   "codemirror_mode": {
    "name": "ipython",
    "version": 3
   },
   "file_extension": ".py",
   "mimetype": "text/x-python",
   "name": "python",
   "nbconvert_exporter": "python",
   "pygments_lexer": "ipython3",
   "version": "3.10.16"
  }
 },
 "nbformat": 4,
 "nbformat_minor": 5
}
